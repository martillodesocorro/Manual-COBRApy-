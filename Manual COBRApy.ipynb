{
 "cells": [
  {
   "cell_type": "markdown",
   "metadata": {},
   "source": [
    ".\n",
    ".\n",
    "\n",
    "# MANUAL COBRApy\n",
    "## ÚLTIMA VERSIÓN \n",
    "------------------------------------------------------------------------------------------\n",
    ".\n",
    ".\n",
    ".\n",
    "#### UNIVERSIDAD AUTÓNOMA METROPOLITANA UNIDAD CUAJIMALPA\n",
    ".\n",
    ".\n",
    ".\n",
    "#### Mauricio Carrasco González\n",
    "#### Dr. Roberto Olivares Hernández\n",
    ".\n",
    ".\n",
    ".\n",
    ".\n",
    ".\n",
    "\n"
   ]
  },
  {
   "cell_type": "markdown",
   "metadata": {},
   "source": [
    "## Introducción\n"
   ]
  },
  {
   "cell_type": "markdown",
   "metadata": {},
   "source": [
    "## Instalación\n"
   ]
  },
  {
   "cell_type": "markdown",
   "metadata": {},
   "source": [
    "Cobrapy es un paquete de Python que proporciona una interfaz simple para la reconstrucción y el análisis basados en restricciones metabólicas.\n",
    "\n",
    "El paquete incluye interfaces simples orientadas a objetos para la construcción de modelos (incluida la lectura hacia/desde los formatos sbml, matlab y json) e implementa métodos COBRA de uso común, como análisis de balance de flujo, análisis de variabilidad de flujo y análisis de eliminación de genes.\n",
    "\n",
    "COBRApy se puede instalar con cualquier instalación reciente de pip. A continuación se muestran las instrucciones para varios sistemas operativos:\n",
    "\n",
    "Mac OS X o Linux----------------------------------------------\n",
    "\n",
    "Le recomendamos que cree un entorno virtual Python. Instale COBRApy cuando un entorno esté activo ejecutando el siguiente comando en la terminal:"
   ]
  },
  {
   "cell_type": "code",
   "execution_count": null,
   "metadata": {},
   "outputs": [],
   "source": [
    "pip install cobra"
   ]
  },
  {
   "cell_type": "markdown",
   "metadata": {},
   "source": [
    "Microsoft Windows-----------------------------------\n",
    "\n",
    "Puede usar el mismo comando de instalación usando pip o usando Anaconda, puede abrir un shell Anaconda e instalar COBRApy desde el canal de bioconda.\n",
    "\n",
    "Si desea cargar modelos MATLAB, necesitará dependencias adicionales. Por favor instalar:\n"
   ]
  },
  {
   "cell_type": "code",
   "execution_count": null,
   "metadata": {},
   "outputs": [],
   "source": [
    "pip install cobra[all]"
   ]
  },
  {
   "cell_type": "markdown",
   "metadata": {},
   "source": [
    "## Primeros Pasos"
   ]
  },
  {
   "cell_type": "markdown",
   "metadata": {},
   "source": [
    "Como se abordó anteriormente, Cobrapy es una librería de Python que proporciona una interfaz simple para la reconstrucción y el análisis basados en restricciones metabólicas. Antes de comenzar a trabajar con este paquete es importante tener en mente que Cobrapy trabaja orientado a objetos, que en este contexto serán los elementos que podremos manipular de nuestro modelo. \n",
    "\n",
    "Los objetos que podemos utilizar en Cobrapy son: modelos, reacciones, metabolitos y genes. Estos objetos o elementos interaccionarán entre sí mediante sus \"atributos\" para representar el estado biológico del sistema simulado.\n",
    "\n",
    "En Cobrapy, como en otras librerías de python, es necesario de importar algunas dependencias que sean necesarias en el espacio de trabajo actual.\n",
    "Sugerimos que para el buen funcionamiento de scripts usando Cobrapy al menos las siguientes dependencias sean llamadas al inicio del código:"
   ]
  },
  {
   "cell_type": "code",
   "execution_count": null,
   "metadata": {},
   "outputs": [],
   "source": [
    "from __future__ import print_function #dependencia que evitará problemas de versión de sintaxis\n",
    "import cobra                          #Se llama a la librería de Cobrapy\n",
    "from cobra import Model, Reaction, Metabolite #Se llama a los objetos que se utilizarán más adelante\n",
    "from cobra.io import read_sbml_model  #Se llama a la dependencia que permitirá leer modelos metabólicos en formato sbml"
   ]
  },
  {
   "cell_type": "markdown",
   "metadata": {},
   "source": [
    "### Cargando un modelo"
   ]
  },
  {
   "cell_type": "markdown",
   "metadata": {},
   "source": [
    "En Cobrapy podemos cargar un modelo metabólico distribuido en la web o construir un nuevo modelo desde cero. También podemos cargar modelos de prueba de Salmonella y de E.coli que vienen instalados con la librería, para esto escribimos: "
   ]
  },
  {
   "cell_type": "code",
   "execution_count": 1,
   "metadata": {},
   "outputs": [],
   "source": [
    "from __future__ import print_function\n",
    "\n",
    "import cobra\n",
    "import cobra.test"
   ]
  },
  {
   "cell_type": "markdown",
   "metadata": {},
   "source": [
    "Para crear un modelo de prueba y cargarlo como objeto \"modelo\" escirbimos:"
   ]
  },
  {
   "cell_type": "code",
   "execution_count": 2,
   "metadata": {},
   "outputs": [],
   "source": [
    "#\"ecoli\" y \"salmonella\" son argumentos también validos\n",
    "model = cobra.test.create_test_model(\"textbook\")"
   ]
  },
  {
   "cell_type": "markdown",
   "metadata": {},
   "source": [
    "una vez cargado el modelo, podemos obtener una visualización general de los elementos que lo conforman:\n",
    "\n",
    "(NOTA: usando Jupyter Notebook la información se despliega tan sencillo como escribir el siguiente comando, en uso de Python de forma iterada, es necesario usar la función print()).\n",
    "    "
   ]
  },
  {
   "cell_type": "code",
   "execution_count": 3,
   "metadata": {},
   "outputs": [
    {
     "data": {
      "text/html": [
       "\n",
       "        <table>\n",
       "            <tr>\n",
       "                <td><strong>Name</strong></td>\n",
       "                <td>e_coli_core</td>\n",
       "            </tr><tr>\n",
       "                <td><strong>Memory address</strong></td>\n",
       "                <td>0x012742da8</td>\n",
       "            </tr><tr>\n",
       "                <td><strong>Number of metabolites</strong></td>\n",
       "                <td>72</td>\n",
       "            </tr><tr>\n",
       "                <td><strong>Number of reactions</strong></td>\n",
       "                <td>95</td>\n",
       "            </tr><tr>\n",
       "                <td><strong>Number of groups</strong></td>\n",
       "                <td>0</td>\n",
       "            </tr><tr>\n",
       "                <td><strong>Objective expression</strong></td>\n",
       "                <td>1.0*Biomass_Ecoli_core - 1.0*Biomass_Ecoli_core_reverse_2cdba</td>\n",
       "            </tr><tr>\n",
       "                <td><strong>Compartments</strong></td>\n",
       "                <td>cytosol, extracellular</td>\n",
       "            </tr>\n",
       "          </table>"
      ],
      "text/plain": [
       "<Model e_coli_core at 0x12742da8>"
      ]
     },
     "execution_count": 3,
     "metadata": {},
     "output_type": "execute_result"
    }
   ],
   "source": [
    "model"
   ]
  },
  {
   "cell_type": "markdown",
   "metadata": {},
   "source": [
    "El siguiente caso es cargar un modelo SBML en formato XML que tengamos guardado en la misma dirección del archivo script que estamos generando, para esto es necesario inicializar el código llamando las dependencias necesarias:"
   ]
  },
  {
   "cell_type": "code",
   "execution_count": 4,
   "metadata": {},
   "outputs": [],
   "source": [
    "from __future__ import print_function\n",
    "import cobra\n",
    "from cobra import Model, Reaction, Metabolite\n",
    "from cobra.io import read_sbml_model  #inicializar la función de lectura de modelos sbml"
   ]
  },
  {
   "cell_type": "markdown",
   "metadata": {},
   "source": [
    "Los modelos SBML (Systems Biology Markup Language) son modelos de distribución en formato estándar XML que tienen soporte para modelos COBRA a partir de la versión 2 de la extensión FBC.\n",
    "\n",
    "Para leer un modelo SBML y cargarlo como objeto \"modelo\" escirbimos la siguientr función teniendo como argumento el nombre del archivo del modelo (para este ejemplo usaremos el modelo a escala genómica de Pichia pastoris descargado de la web):\n",
    "\n"
   ]
  },
  {
   "cell_type": "code",
   "execution_count": 5,
   "metadata": {},
   "outputs": [],
   "source": [
    "model = read_sbml_model('MODEL1507180023_url.xml')"
   ]
  },
  {
   "cell_type": "code",
   "execution_count": 6,
   "metadata": {},
   "outputs": [
    {
     "data": {
      "text/plain": [
       "'Chung2010 - Genome-scale metabolic network of Pichia pastoris (iPP668)'"
      ]
     },
     "execution_count": 6,
     "metadata": {},
     "output_type": "execute_result"
    }
   ],
   "source": [
    "model.name #Regresa información del nombre del modelo metabólico"
   ]
  },
  {
   "cell_type": "code",
   "execution_count": 7,
   "metadata": {},
   "outputs": [
    {
     "data": {
      "text/html": [
       "\n",
       "        <table>\n",
       "            <tr>\n",
       "                <td><strong>Name</strong></td>\n",
       "                <td>MODEL1507180023</td>\n",
       "            </tr><tr>\n",
       "                <td><strong>Memory address</strong></td>\n",
       "                <td>0x012742e80</td>\n",
       "            </tr><tr>\n",
       "                <td><strong>Number of metabolites</strong></td>\n",
       "                <td>1178</td>\n",
       "            </tr><tr>\n",
       "                <td><strong>Number of reactions</strong></td>\n",
       "                <td>1361</td>\n",
       "            </tr><tr>\n",
       "                <td><strong>Number of groups</strong></td>\n",
       "                <td>0</td>\n",
       "            </tr><tr>\n",
       "                <td><strong>Objective expression</strong></td>\n",
       "                <td>1.0*BIOMASS - 1.0*BIOMASS_reverse_69053</td>\n",
       "            </tr><tr>\n",
       "                <td><strong>Compartments</strong></td>\n",
       "                <td>Cytoplasm, Mitochondria, Extracellular, Glyoxysome, Endoplasmic reticulum, Nucleus, Golgi, Vacuole</td>\n",
       "            </tr>\n",
       "          </table>"
      ],
      "text/plain": [
       "<Model MODEL1507180023 at 0x12742e80>"
      ]
     },
     "execution_count": 7,
     "metadata": {},
     "output_type": "execute_result"
    }
   ],
   "source": [
    "model"
   ]
  },
  {
   "cell_type": "markdown",
   "metadata": {},
   "source": [
    "## Construcción de modelo\n"
   ]
  },
  {
   "cell_type": "code",
   "execution_count": null,
   "metadata": {},
   "outputs": [],
   "source": [
    "---"
   ]
  }
 ],
 "metadata": {
  "kernelspec": {
   "display_name": "Python 3",
   "language": "python",
   "name": "python3"
  },
  "language_info": {
   "codemirror_mode": {
    "name": "ipython",
    "version": 3
   },
   "file_extension": ".py",
   "mimetype": "text/x-python",
   "name": "python",
   "nbconvert_exporter": "python",
   "pygments_lexer": "ipython3",
   "version": "3.8.2"
  }
 },
 "nbformat": 4,
 "nbformat_minor": 4
}
