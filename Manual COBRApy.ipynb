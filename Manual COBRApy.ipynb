{
 "cells": [
  {
   "cell_type": "markdown",
   "metadata": {},
   "source": [
    ".\n",
    ".\n",
    "\n",
    "# MANUAL COBRApy\n",
    "## ÚLTIMA VERSIÓN \n",
    "------------------------------------------------------------------------------------------\n",
    ".\n",
    ".\n",
    ".\n",
    "#### UNIVERSIDAD AUTÓNOMA METROPOLITANA UNIDAD CUAJIMALPA\n",
    ".\n",
    ".\n",
    ".\n",
    "#### Mauricio Carrasco González\n",
    "#### Dr. Roberto Olivares Hernández\n",
    ".\n",
    ".\n",
    ".\n",
    ".\n",
    ".\n",
    "\n"
   ]
  },
  {
   "cell_type": "markdown",
   "metadata": {},
   "source": [
    "## Introducción\n"
   ]
  },
  {
   "cell_type": "markdown",
   "metadata": {},
   "source": [
    "## Instalación\n"
   ]
  },
  {
   "cell_type": "markdown",
   "metadata": {},
   "source": [
    "Cobrapy es un paquete de Python que proporciona una interfaz simple para la reconstrucción y el análisis basados en restricciones metabólicas.\n",
    "\n",
    "El paquete incluye interfaces simples orientadas a objetos para la construcción de modelos (incluida la lectura hacia/desde los formatos sbml, matlab y json) e implementa métodos COBRA de uso común, como análisis de balance de flujo, análisis de variabilidad de flujo y análisis de eliminación de genes.\n",
    "\n",
    "COBRApy se puede instalar con cualquier instalación reciente de pip. A continuación se muestran las instrucciones para varios sistemas operativos:\n",
    "\n",
    "Mac OS X o Linux----------------------------------------------\n",
    "\n",
    "Le recomendamos que cree un entorno virtual Python. Instale COBRApy cuando un entorno esté activo ejecutando el siguiente comando en la terminal:"
   ]
  },
  {
   "cell_type": "code",
   "execution_count": null,
   "metadata": {},
   "outputs": [],
   "source": [
    "pip install cobra"
   ]
  },
  {
   "cell_type": "markdown",
   "metadata": {},
   "source": [
    "Microsoft Windows-----------------------------------\n",
    "\n",
    "Puede usar el mismo comando de instalación usando pip o usando Anaconda, puede abrir un shell Anaconda e instalar COBRApy desde el canal de bioconda.\n",
    "\n",
    "Si desea cargar modelos MATLAB, necesitará dependencias adicionales. Por favor instalar:\n"
   ]
  },
  {
   "cell_type": "code",
   "execution_count": null,
   "metadata": {},
   "outputs": [],
   "source": [
    "pip install cobra[all]"
   ]
  },
  {
   "cell_type": "markdown",
   "metadata": {},
   "source": [
    "## Primeros Pasos"
   ]
  },
  {
   "cell_type": "markdown",
   "metadata": {},
   "source": [
    "Como se abordó anteriormente, Cobrapy es una librería de Python que proporciona una interfaz simple para la reconstrucción y el análisis basados en restricciones metabólicas. Antes de comenzar a trabajar con este paquete es importante tener en mente que Cobrapy trabaja orientado a objetos, que en este contexto serán los elementos que podremos manipular de nuestro modelo. \n",
    "\n",
    "Los objetos que podemos utilizar en Cobrapy son: modelos, reacciones, metabolitos y genes. Estos objetos o elementos interaccionarán entre sí mediante sus \"atributos\" para representar el estado biológico del sistema simulado.\n",
    "\n",
    "En Cobrapy, como en otras librerías de python, es necesario de importar algunas dependencias que sean necesarias en el espacio de trabajo actual.\n",
    "Sugerimos que para el buen funcionamiento de scripts usando Cobrapy al menos las siguientes dependencias sean llamadas al inicio del código:"
   ]
  },
  {
   "cell_type": "code",
   "execution_count": null,
   "metadata": {},
   "outputs": [],
   "source": [
    "from __future__ import print_function #dependencia que evitará problemas de versión de sintaxis\n",
    "import cobra                          #Se llama a la librería de Cobrapy\n",
    "from cobra import Model, Reaction, Metabolite #Se llama a los objetos que se utilizarán más adelante\n",
    "from cobra.io import read_sbml_model  #Se llama a la dependencia que permitirá leer modelos metabólicos en formato sbml"
   ]
  },
  {
   "cell_type": "markdown",
   "metadata": {},
   "source": [
    "### Cargando un modelo"
   ]
  },
  {
   "cell_type": "markdown",
   "metadata": {},
   "source": [
    "En Cobrapy podemos cargar un modelo metabólico distribuido en la web o construir un nuevo modelo desde cero. También podemos cargar modelos de prueba de Salmonella y de E.coli que vienen instalados con la librería, para esto escribimos: "
   ]
  },
  {
   "cell_type": "code",
   "execution_count": 1,
   "metadata": {},
   "outputs": [],
   "source": [
    "from __future__ import print_function\n",
    "\n",
    "import cobra\n",
    "import cobra.test"
   ]
  },
  {
   "cell_type": "markdown",
   "metadata": {},
   "source": [
    "Para crear un modelo de prueba y cargarlo como objeto \"modelo\" escirbimos:"
   ]
  },
  {
   "cell_type": "code",
   "execution_count": 2,
   "metadata": {},
   "outputs": [],
   "source": [
    "#\"ecoli\" y \"salmonella\" son argumentos también validos\n",
    "model = cobra.test.create_test_model(\"textbook\")"
   ]
  },
  {
   "cell_type": "markdown",
   "metadata": {},
   "source": [
    "una vez cargado el modelo, podemos obtener una visualización general de los elementos que lo conforman:\n",
    "\n",
    "(NOTA: usando Jupyter Notebook la información se despliega tan sencillo como escribir el siguiente comando, en uso de Python de forma iterada, es necesario usar la función print()).\n",
    "    "
   ]
  },
  {
   "cell_type": "code",
   "execution_count": 3,
   "metadata": {},
   "outputs": [
    {
     "data": {
      "text/html": [
       "\n",
       "        <table>\n",
       "            <tr>\n",
       "                <td><strong>Name</strong></td>\n",
       "                <td>e_coli_core</td>\n",
       "            </tr><tr>\n",
       "                <td><strong>Memory address</strong></td>\n",
       "                <td>0x012742da8</td>\n",
       "            </tr><tr>\n",
       "                <td><strong>Number of metabolites</strong></td>\n",
       "                <td>72</td>\n",
       "            </tr><tr>\n",
       "                <td><strong>Number of reactions</strong></td>\n",
       "                <td>95</td>\n",
       "            </tr><tr>\n",
       "                <td><strong>Number of groups</strong></td>\n",
       "                <td>0</td>\n",
       "            </tr><tr>\n",
       "                <td><strong>Objective expression</strong></td>\n",
       "                <td>1.0*Biomass_Ecoli_core - 1.0*Biomass_Ecoli_core_reverse_2cdba</td>\n",
       "            </tr><tr>\n",
       "                <td><strong>Compartments</strong></td>\n",
       "                <td>cytosol, extracellular</td>\n",
       "            </tr>\n",
       "          </table>"
      ],
      "text/plain": [
       "<Model e_coli_core at 0x12742da8>"
      ]
     },
     "execution_count": 3,
     "metadata": {},
     "output_type": "execute_result"
    }
   ],
   "source": [
    "model"
   ]
  },
  {
   "cell_type": "markdown",
   "metadata": {},
   "source": [
    "El siguiente caso es cargar un modelo SBML en formato XML que tengamos guardado en la misma dirección del archivo script que estamos generando, para esto es necesario inicializar el código llamando las dependencias necesarias:"
   ]
  },
  {
   "cell_type": "code",
   "execution_count": 4,
   "metadata": {},
   "outputs": [],
   "source": [
    "from __future__ import print_function\n",
    "import cobra\n",
    "from cobra import Model, Reaction, Metabolite\n",
    "from cobra.io import read_sbml_model  #inicializar la función de lectura de modelos sbml"
   ]
  },
  {
   "cell_type": "markdown",
   "metadata": {},
   "source": [
    "Los modelos SBML (Systems Biology Markup Language) son modelos de distribución en formato estándar XML que tienen soporte para modelos COBRA a partir de la versión 2 de la extensión FBC.\n",
    "\n",
    "Para leer un modelo SBML y cargarlo como objeto \"modelo\" escirbimos la siguientr función teniendo como argumento el nombre del archivo del modelo (para este ejemplo usaremos el modelo a escala genómica de Pichia pastoris descargado de la web):\n",
    "\n"
   ]
  },
  {
   "cell_type": "code",
   "execution_count": 5,
   "metadata": {},
   "outputs": [],
   "source": [
    "model = read_sbml_model('MODEL1507180023_url.xml')"
   ]
  },
  {
   "cell_type": "code",
   "execution_count": 6,
   "metadata": {},
   "outputs": [
    {
     "data": {
      "text/plain": [
       "'Chung2010 - Genome-scale metabolic network of Pichia pastoris (iPP668)'"
      ]
     },
     "execution_count": 6,
     "metadata": {},
     "output_type": "execute_result"
    }
   ],
   "source": [
    "model.name #Regresa información del nombre del modelo metabólico"
   ]
  },
  {
   "cell_type": "code",
   "execution_count": 7,
   "metadata": {},
   "outputs": [
    {
     "data": {
      "text/html": [
       "\n",
       "        <table>\n",
       "            <tr>\n",
       "                <td><strong>Name</strong></td>\n",
       "                <td>MODEL1507180023</td>\n",
       "            </tr><tr>\n",
       "                <td><strong>Memory address</strong></td>\n",
       "                <td>0x012742e80</td>\n",
       "            </tr><tr>\n",
       "                <td><strong>Number of metabolites</strong></td>\n",
       "                <td>1178</td>\n",
       "            </tr><tr>\n",
       "                <td><strong>Number of reactions</strong></td>\n",
       "                <td>1361</td>\n",
       "            </tr><tr>\n",
       "                <td><strong>Number of groups</strong></td>\n",
       "                <td>0</td>\n",
       "            </tr><tr>\n",
       "                <td><strong>Objective expression</strong></td>\n",
       "                <td>1.0*BIOMASS - 1.0*BIOMASS_reverse_69053</td>\n",
       "            </tr><tr>\n",
       "                <td><strong>Compartments</strong></td>\n",
       "                <td>Cytoplasm, Mitochondria, Extracellular, Glyoxysome, Endoplasmic reticulum, Nucleus, Golgi, Vacuole</td>\n",
       "            </tr>\n",
       "          </table>"
      ],
      "text/plain": [
       "<Model MODEL1507180023 at 0x12742e80>"
      ]
     },
     "execution_count": 7,
     "metadata": {},
     "output_type": "execute_result"
    }
   ],
   "source": [
    "model"
   ]
  },
  {
   "cell_type": "markdown",
   "metadata": {},
   "source": [
    "Usando COBRA también podemos escribir modelos en formato .xml de la siguiente manera:\n"
   ]
  },
  {
   "cell_type": "code",
   "execution_count": null,
   "metadata": {},
   "outputs": [],
   "source": [
    "cobra.io.write_sbml_model(model,\"test_model.xml\")"
   ]
  },
  {
   "cell_type": "markdown",
   "metadata": {},
   "source": [
    "## Construcción de modelo\n"
   ]
  },
  {
   "cell_type": "markdown",
   "metadata": {},
   "source": [
    "Las clases principales de COBRApy son Modelo, Metabolito, Reacción y Gen. El Modelo sirve como contenedor para un conjunto de reacciones químicas, incluidos los metabolitos y productos genéticos asociados. Para la construcción de un modelo desde cero primero debemos crear un objeto \"modelo\" y asignarle un nombre:"
   ]
  },
  {
   "cell_type": "code",
   "execution_count": 2,
   "metadata": {},
   "outputs": [],
   "source": [
    "from __future__ import print_function\n",
    "import cobra\n",
    "from cobra import Model, Reaction, Metabolite\n",
    "\n",
    "model = Model('example_model') ##Definimos un modelo con un nombre\n"
   ]
  },
  {
   "cell_type": "markdown",
   "metadata": {},
   "source": [
    "Después creamos una reacción. Para este ejemplo, seguiremos la ecuación de la reacción 3OAS140 del modelo STM_1.0: \n",
    "\n",
    "1.0 malACP[c] + 1.0 h[c] + 1.0 ddcaACP[c]→1.0 co2[c] + 1.0 ACP[c] + 1.0 3omrsACP[c]\n",
    "\n",
    "Usaremos el identificador de la reacción con la función Reaction(), asignaremos un nombre usando la función reaction.name, y agregaremos información del subsistema con reaction.subsystem. El sentido de la reacción la configuramos con los límites asignados reaction.lower_bound = 0 y reaction.upper_bound = 1000, para el caso de reacciones reversibles, ambos valores son iguales a 1000."
   ]
  },
  {
   "cell_type": "code",
   "execution_count": 3,
   "metadata": {},
   "outputs": [],
   "source": [
    "reaction = Reaction('3OAS140')\n",
    "reaction.name = '3 oxoacyl acyl carrier protein synthase n C140 '\n",
    "reaction.subsystem = 'Cell Envelope Biosynthesis'\n",
    "reaction.lower_bound = 0.# This is the default\n",
    "reaction.upper_bound = 1000.# This is the default"
   ]
  },
  {
   "cell_type": "markdown",
   "metadata": {},
   "source": [
    "El siguiente paso es crear los metabolitos que se usarán en la reacción química. Podemos asignar un identificador de metabolito, formula, nombre y ubicación en el compartimento. "
   ]
  },
  {
   "cell_type": "code",
   "execution_count": 4,
   "metadata": {},
   "outputs": [],
   "source": [
    "ACP_c = Metabolite(\n",
    "    'ACP_c',\n",
    "    formula='C11H21N2O7PRS',\n",
    "    name='acyl-carrier-protein',\n",
    "    compartment='c')\n",
    "omrsACP_c = Metabolite(\n",
    "    '3omrsACP_c',\n",
    "    formula='C25H45N2O9PRS',\n",
    "    name='3-Oxotetradecanoyl-acyl-carrier-protein',\n",
    "    compartment='c')\n",
    "co2_c = Metabolite(\n",
    "    'co2_c', \n",
    "    formula='CO2', \n",
    "    name='CO2', \n",
    "    compartment='c')\n",
    "malACP_c = Metabolite(\n",
    "    'malACP_c',\n",
    "    formula='C14H22N2O10PRS',\n",
    "    name='Malonyl-acyl-carrier-protein',\n",
    "    compartment='c')\n",
    "h_c = Metabolite(\n",
    "    'h_c', \n",
    "    formula='H', \n",
    "    name='H', \n",
    "    compartment='c')\n",
    "ddcaACP_c = Metabolite(\n",
    "    'ddcaACP_c',\n",
    "    formula='C23H43N2O8PRS',\n",
    "    name='Dodecanoyl-ACP-n-C120ACP',\n",
    "    compartment='c')\n"
   ]
  },
  {
   "cell_type": "markdown",
   "metadata": {},
   "source": [
    "Una vez creados los metabolitos, se deben añadir a la reacción haciendo uso del tipo Diccionario que COBRA utiliza para las reacciones usando la función reaction.add.metabolites(). Los valores son negativos para los reactivos y positivos para los productos:\n"
   ]
  },
  {
   "cell_type": "code",
   "execution_count": 5,
   "metadata": {},
   "outputs": [],
   "source": [
    "reaction.add_metabolites({\n",
    "    malACP_c: -1.0,\n",
    "    h_c: -1.0,\n",
    "    ddcaACP_c: -1.0,\n",
    "    co2_c: 1.0,\n",
    "    ACP_c: 1.0,\n",
    "    omrsACP_c: 1.0\n",
    "})"
   ]
  },
  {
   "cell_type": "markdown",
   "metadata": {},
   "source": [
    "Para asegurarnos que la información se enlazó correctamente podemos llamar a la nueva reacción con la siguiente función, la cual nos devolverá una cadena de carácteres con la representación de la ecuación:"
   ]
  },
  {
   "cell_type": "code",
   "execution_count": 6,
   "metadata": {},
   "outputs": [
    {
     "data": {
      "text/plain": [
       "'ddcaACP_c + h_c + malACP_c --> 3omrsACP_c + ACP_c + co2_c'"
      ]
     },
     "execution_count": 6,
     "metadata": {},
     "output_type": "execute_result"
    }
   ],
   "source": [
    "reaction.reaction"
   ]
  },
  {
   "cell_type": "markdown",
   "metadata": {},
   "source": [
    "Los requisitos genéticos subyacentes para que una reacción sea activa en un modelo se proporcionan como una relación booleana, donde cada gen se denomina mediante un identificador único. Para asignar un par de genes a la nueva reacción, usamos la función reaction.gene_reaction_rule y le asignamos los identificadores STM2378 y STM1197."
   ]
  },
  {
   "cell_type": "code",
   "execution_count": 8,
   "metadata": {},
   "outputs": [
    {
     "data": {
      "text/plain": [
       "frozenset({<Gene STM1197 at 0x12756640>, <Gene STM2378 at 0x12756628>})"
      ]
     },
     "execution_count": 8,
     "metadata": {},
     "output_type": "execute_result"
    }
   ],
   "source": [
    "reaction.gene_reaction_rule = '( STM2378 or STM1197 )'\n",
    "reaction.genes  #este comando nos muestra ubicación en memoria de los genes creados"
   ]
  },
  {
   "cell_type": "markdown",
   "metadata": {},
   "source": [
    "En este punto se han creado un modelo, una reacción, 6 metabolitos y dos genes, sin embargo estos objetos no han sido asociados y por lo tanto no aparecen guardados en el modelo:"
   ]
  },
  {
   "cell_type": "code",
   "execution_count": 9,
   "metadata": {},
   "outputs": [
    {
     "data": {
      "text/plain": [
       "0"
      ]
     },
     "execution_count": 9,
     "metadata": {},
     "output_type": "execute_result"
    }
   ],
   "source": [
    "len(model.reactions) #este comando despliega el número de reacciones asociadas al modelo"
   ]
  },
  {
   "cell_type": "code",
   "execution_count": 10,
   "metadata": {},
   "outputs": [
    {
     "data": {
      "text/plain": [
       "0"
      ]
     },
     "execution_count": 10,
     "metadata": {},
     "output_type": "execute_result"
    }
   ],
   "source": [
    "len(model.metabolites) #este comando despliega el número de metabolitos asociadas al modelo"
   ]
  },
  {
   "cell_type": "code",
   "execution_count": 11,
   "metadata": {},
   "outputs": [
    {
     "data": {
      "text/plain": [
       "0"
      ]
     },
     "execution_count": 11,
     "metadata": {},
     "output_type": "execute_result"
    }
   ],
   "source": [
    "len(model.genes) #este comando despliega el número de genes asociadas al modelo"
   ]
  },
  {
   "cell_type": "markdown",
   "metadata": {},
   "source": [
    "Para agregar la reacción creada al modelo (la cual tambien agregará todos los metabolitos y genes asociados) usaremos el siguiente comando:"
   ]
  },
  {
   "cell_type": "code",
   "execution_count": 12,
   "metadata": {},
   "outputs": [],
   "source": [
    "model.add_reactions([reaction])"
   ]
  },
  {
   "cell_type": "markdown",
   "metadata": {},
   "source": [
    "Ahora podemos observar que el modelo contiene nuevos objetos asociados:"
   ]
  },
  {
   "cell_type": "code",
   "execution_count": 15,
   "metadata": {},
   "outputs": [
    {
     "name": "stdout",
     "output_type": "stream",
     "text": [
      "1 reaction\n",
      "6 metabolites\n",
      "2 genes\n"
     ]
    }
   ],
   "source": [
    "print('%i reaction' % len(model.reactions))\n",
    "print('%i metabolites' % len(model.metabolites))\n",
    "print('%i genes' % len(model.genes))"
   ]
  },
  {
   "cell_type": "markdown",
   "metadata": {},
   "source": [
    "Este procedimiento debe realizarse de manera iterada para las diferentes reacciones que se quisieran agregar al nuevo modelo creado."
   ]
  },
  {
   "cell_type": "markdown",
   "metadata": {},
   "source": [
    "Por último, es necesario configurar el objetivo del modelo. En este caso vamos a maximizar el flujo de la única reacción que hemos creado. Para configurar la reacción objetivo asignaremos el identificador de la reacción a la propiedad objetivo del modelo usando la función model.objective:"
   ]
  },
  {
   "cell_type": "code",
   "execution_count": 16,
   "metadata": {},
   "outputs": [],
   "source": [
    "model.objective = '3OAS140'"
   ]
  },
  {
   "cell_type": "markdown",
   "metadata": {},
   "source": [
    "Para inspeccionar la expresión algebraica que el modelo a asignado usando la reacción seleccionada, usamos el siguiente comando:"
   ]
  },
  {
   "cell_type": "code",
   "execution_count": 17,
   "metadata": {},
   "outputs": [
    {
     "name": "stdout",
     "output_type": "stream",
     "text": [
      "1.0*3OAS140 - 1.0*3OAS140_reverse_65ddc\n"
     ]
    }
   ],
   "source": [
    "print(model.objective.expression)"
   ]
  },
  {
   "cell_type": "markdown",
   "metadata": {},
   "source": [
    "Para inspeccionar la dirección que el Solver utilizará para la optimización usamos:"
   ]
  },
  {
   "cell_type": "code",
   "execution_count": 18,
   "metadata": {},
   "outputs": [
    {
     "name": "stdout",
     "output_type": "stream",
     "text": [
      "max\n"
     ]
    }
   ],
   "source": [
    "print(model.objective.direction)"
   ]
  },
  {
   "cell_type": "markdown",
   "metadata": {},
   "source": [
    "Que indica que el solver resolverá el problema de optimización maximizando el flujo de la reacción seleccionada."
   ]
  },
  {
   "cell_type": "markdown",
   "metadata": {},
   "source": [
    "## Que hay dentro del modelo"
   ]
  },
  {
   "cell_type": "markdown",
   "metadata": {},
   "source": [
    "Para inspeccionar el contenido de un modelo cargado en memoria, basta con imprimir en pantalla el número de reacciones, metabolitos y genes en el modelo como se muestra a continuación:\n"
   ]
  },
  {
   "cell_type": "code",
   "execution_count": 2,
   "metadata": {},
   "outputs": [
    {
     "name": "stdout",
     "output_type": "stream",
     "text": [
      "95\n",
      "72\n",
      "137\n"
     ]
    }
   ],
   "source": [
    "from __future__ import print_function\n",
    "import cobra\n",
    "import cobra.test\n",
    "\n",
    "model = cobra.test.create_test_model(\"textbook\")\n",
    "#textbook es el modelo de ejemplo que viene con COBRApy\n",
    "\n",
    "print(len(model.reactions))  #muestra el número de reacciones\n",
    "print(len(model.metabolites))  #muestra el número de metabolitos\n",
    "print(len(model.genes))  #muestra el número de genes"
   ]
  },
  {
   "cell_type": "markdown",
   "metadata": {},
   "source": [
    "También se puede hacer uso de código iterativo para desplegar toda la información de cada uno de los elementos del modelo. Por ejemplo, con el siguiente script se puede conseguir una lista con todas las reacciones, metabolitos y genes contenidos en el modelo:"
   ]
  },
  {
   "cell_type": "code",
   "execution_count": 23,
   "metadata": {},
   "outputs": [
    {
     "name": "stdout",
     "output_type": "stream",
     "text": [
      "Reactions\n",
      "---------\n",
      "ACALD:acald_c + coa_c + nad_c <=> accoa_c + h_c + nadh_c\n",
      "ACALDt:acald_e <=> acald_c\n",
      "ACKr:ac_c + atp_c <=> actp_c + adp_c\n",
      "ACONTa:cit_c <=> acon_C_c + h2o_c\n",
      "ACONTb:acon_C_c + h2o_c <=> icit_c\n",
      "ACt2r:ac_e + h_e <=> ac_c + h_c\n",
      "ADK1:amp_c + atp_c <=> 2.0 adp_c\n",
      "AKGDH:akg_c + coa_c + nad_c --> co2_c + nadh_c + succoa_c\n",
      "AKGt2r:akg_e + h_e <=> akg_c + h_c\n",
      "ALCD2x:etoh_c + nad_c <=> acald_c + h_c + nadh_c\n",
      "ATPM:atp_c + h2o_c --> adp_c + h_c + pi_c\n",
      "ATPS4r:adp_c + 4.0 h_e + pi_c <=> atp_c + h2o_c + 3.0 h_c\n",
      "Biomass_Ecoli_core:1.496 3pg_c + 3.7478 accoa_c + 59.81 atp_c + 0.361 e4p_c + 0.0709 f6p_c + 0.129 g3p_c + 0.205 g6p_c + 0.2557 gln__L_c + 4.9414 glu__L_c + 59.81 h2o_c + 3.547 nad_c + 13.0279 nadph_c + 1.7867 oaa_c + 0.5191 pep_c + 2.8328 pyr_c + 0.8977 r5p_c --> 59.81 adp_c + 4.1182 akg_c + 3.7478 coa_c + 59.81 h_c + 3.547 nadh_c + 13.0279 nadp_c + 59.81 pi_c\n",
      "CO2t:co2_e <=> co2_c\n",
      "CS:accoa_c + h2o_c + oaa_c --> cit_c + coa_c + h_c\n",
      "CYTBD:2.0 h_c + 0.5 o2_c + q8h2_c --> h2o_c + 2.0 h_e + q8_c\n",
      "D_LACt2:h_e + lac__D_e <=> h_c + lac__D_c\n",
      "ENO:2pg_c <=> h2o_c + pep_c\n",
      "ETOHt2r:etoh_e + h_e <=> etoh_c + h_c\n",
      "EX_ac_e:ac_e --> \n",
      "EX_acald_e:acald_e --> \n",
      "EX_akg_e:akg_e --> \n",
      "EX_co2_e:co2_e <=> \n",
      "EX_etoh_e:etoh_e --> \n",
      "EX_for_e:for_e --> \n",
      "EX_fru_e:fru_e --> \n",
      "EX_fum_e:fum_e --> \n",
      "EX_glc__D_e:glc__D_e <=> \n",
      "EX_gln__L_e:gln__L_e --> \n",
      "EX_glu__L_e:glu__L_e --> \n",
      "EX_h_e:h_e <=> \n",
      "EX_h2o_e:h2o_e <=> \n",
      "EX_lac__D_e:lac__D_e --> \n",
      "EX_mal__L_e:mal__L_e --> \n",
      "EX_nh4_e:nh4_e <=> \n",
      "EX_o2_e:o2_e <=> \n",
      "EX_pi_e:pi_e <=> \n",
      "EX_pyr_e:pyr_e --> \n",
      "EX_succ_e:succ_e --> \n",
      "FBA:fdp_c <=> dhap_c + g3p_c\n",
      "FBP:fdp_c + h2o_c --> f6p_c + pi_c\n",
      "FORt2:for_e + h_e --> for_c + h_c\n",
      "FORti:for_c --> for_e\n",
      "FRD7:fum_c + q8h2_c --> q8_c + succ_c\n",
      "FRUpts2:fru_e + pep_c --> f6p_c + pyr_c\n",
      "FUM:fum_c + h2o_c <=> mal__L_c\n",
      "FUMt2_2:fum_e + 2.0 h_e --> fum_c + 2.0 h_c\n",
      "G6PDH2r:g6p_c + nadp_c <=> 6pgl_c + h_c + nadph_c\n",
      "GAPD:g3p_c + nad_c + pi_c <=> 13dpg_c + h_c + nadh_c\n",
      "GLCpts:glc__D_e + pep_c --> g6p_c + pyr_c\n",
      "GLNS:atp_c + glu__L_c + nh4_c --> adp_c + gln__L_c + h_c + pi_c\n",
      "GLNabc:atp_c + gln__L_e + h2o_c --> adp_c + gln__L_c + h_c + pi_c\n",
      "GLUDy:glu__L_c + h2o_c + nadp_c <=> akg_c + h_c + nadph_c + nh4_c\n",
      "GLUN:gln__L_c + h2o_c --> glu__L_c + nh4_c\n",
      "GLUSy:akg_c + gln__L_c + h_c + nadph_c --> 2.0 glu__L_c + nadp_c\n",
      "GLUt2r:glu__L_e + h_e <=> glu__L_c + h_c\n",
      "GND:6pgc_c + nadp_c --> co2_c + nadph_c + ru5p__D_c\n",
      "H2Ot:h2o_e <=> h2o_c\n",
      "ICDHyr:icit_c + nadp_c <=> akg_c + co2_c + nadph_c\n",
      "ICL:icit_c --> glx_c + succ_c\n",
      "LDH_D:lac__D_c + nad_c <=> h_c + nadh_c + pyr_c\n",
      "MALS:accoa_c + glx_c + h2o_c --> coa_c + h_c + mal__L_c\n",
      "MALt2_2:2.0 h_e + mal__L_e --> 2.0 h_c + mal__L_c\n",
      "MDH:mal__L_c + nad_c <=> h_c + nadh_c + oaa_c\n",
      "ME1:mal__L_c + nad_c --> co2_c + nadh_c + pyr_c\n",
      "ME2:mal__L_c + nadp_c --> co2_c + nadph_c + pyr_c\n",
      "NADH16:4.0 h_c + nadh_c + q8_c --> 3.0 h_e + nad_c + q8h2_c\n",
      "NADTRHD:nad_c + nadph_c --> nadh_c + nadp_c\n",
      "NH4t:nh4_e <=> nh4_c\n",
      "O2t:o2_e <=> o2_c\n",
      "PDH:coa_c + nad_c + pyr_c --> accoa_c + co2_c + nadh_c\n",
      "PFK:atp_c + f6p_c --> adp_c + fdp_c + h_c\n",
      "PFL:coa_c + pyr_c --> accoa_c + for_c\n",
      "PGI:g6p_c <=> f6p_c\n",
      "PGK:3pg_c + atp_c <=> 13dpg_c + adp_c\n",
      "PGL:6pgl_c + h2o_c --> 6pgc_c + h_c\n",
      "PGM:2pg_c <=> 3pg_c\n",
      "PIt2r:h_e + pi_e <=> h_c + pi_c\n",
      "PPC:co2_c + h2o_c + pep_c --> h_c + oaa_c + pi_c\n",
      "PPCK:atp_c + oaa_c --> adp_c + co2_c + pep_c\n",
      "PPS:atp_c + h2o_c + pyr_c --> amp_c + 2.0 h_c + pep_c + pi_c\n",
      "PTAr:accoa_c + pi_c <=> actp_c + coa_c\n",
      "PYK:adp_c + h_c + pep_c --> atp_c + pyr_c\n",
      "PYRt2:h_e + pyr_e <=> h_c + pyr_c\n",
      "RPE:ru5p__D_c <=> xu5p__D_c\n",
      "RPI:r5p_c <=> ru5p__D_c\n",
      "SUCCt2_2:2.0 h_e + succ_e --> 2.0 h_c + succ_c\n",
      "SUCCt3:h_e + succ_c --> h_c + succ_e\n",
      "SUCDi:q8_c + succ_c --> fum_c + q8h2_c\n",
      "SUCOAS:atp_c + coa_c + succ_c <=> adp_c + pi_c + succoa_c\n",
      "TALA:g3p_c + s7p_c <=> e4p_c + f6p_c\n",
      "THD2:2.0 h_e + nadh_c + nadp_c --> 2.0 h_c + nad_c + nadph_c\n",
      "TKT1:r5p_c + xu5p__D_c <=> g3p_c + s7p_c\n",
      "TKT2:e4p_c + xu5p__D_c <=> f6p_c + g3p_c\n",
      "TPI:dhap_c <=> g3p_c\n",
      "\n",
      "Metabolites\n",
      "-----------\n",
      "  13dpg_c:C3H4O10P2\n",
      "    2pg_c:C3H4O7P\n",
      "    3pg_c:C3H4O7P\n",
      "   6pgc_c:C6H10O10P\n",
      "   6pgl_c:C6H9O9P\n",
      "     ac_c:C2H3O2\n",
      "     ac_e:C2H3O2\n",
      "  acald_c:C2H4O\n",
      "  acald_e:C2H4O\n",
      "  accoa_c:C23H34N7O17P3S\n",
      " acon_C_c:C6H3O6\n",
      "   actp_c:C2H3O5P\n",
      "    adp_c:C10H12N5O10P2\n",
      "    akg_c:C5H4O5\n",
      "    akg_e:C5H4O5\n",
      "    amp_c:C10H12N5O7P\n",
      "    atp_c:C10H12N5O13P3\n",
      "    cit_c:C6H5O7\n",
      "    co2_c:CO2\n",
      "    co2_e:CO2\n",
      "    coa_c:C21H32N7O16P3S\n",
      "   dhap_c:C3H5O6P\n",
      "    e4p_c:C4H7O7P\n",
      "   etoh_c:C2H6O\n",
      "   etoh_e:C2H6O\n",
      "    f6p_c:C6H11O9P\n",
      "    fdp_c:C6H10O12P2\n",
      "    for_c:CH1O2\n",
      "    for_e:CH1O2\n",
      "    fru_e:C6H12O6\n",
      "    fum_c:C4H2O4\n",
      "    fum_e:C4H2O4\n",
      "    g3p_c:C3H5O6P\n",
      "    g6p_c:C6H11O9P\n",
      " glc__D_e:C6H12O6\n",
      " gln__L_c:C5H10N2O3\n",
      " gln__L_e:C5H10N2O3\n",
      " glu__L_c:C5H8NO4\n",
      " glu__L_e:C5H8NO4\n",
      "    glx_c:C2H1O3\n",
      "    h2o_c:H2O\n",
      "    h2o_e:H2O\n",
      "      h_c:H\n",
      "      h_e:H\n",
      "   icit_c:C6H5O7\n",
      " lac__D_c:C3H5O3\n",
      " lac__D_e:C3H5O3\n",
      " mal__L_c:C4H4O5\n",
      " mal__L_e:C4H4O5\n",
      "    nad_c:C21H26N7O14P2\n",
      "   nadh_c:C21H27N7O14P2\n",
      "   nadp_c:C21H25N7O17P3\n",
      "  nadph_c:C21H26N7O17P3\n",
      "    nh4_c:H4N\n",
      "    nh4_e:H4N\n",
      "     o2_c:O2\n",
      "     o2_e:O2\n",
      "    oaa_c:C4H2O5\n",
      "    pep_c:C3H2O6P\n",
      "     pi_c:HO4P\n",
      "     pi_e:HO4P\n",
      "    pyr_c:C3H3O3\n",
      "    pyr_e:C3H3O3\n",
      "     q8_c:C49H74O4\n",
      "   q8h2_c:C49H76O4\n",
      "    r5p_c:C5H9O8P\n",
      "ru5p__D_c:C5H9O8P\n",
      "    s7p_c:C7H13O10P\n",
      "   succ_c:C4H4O4\n",
      "   succ_e:C4H4O4\n",
      " succoa_c:C25H35N7O19P3S\n",
      "xu5p__D_c:C5H9O8P\n",
      "\n",
      "Genes\n",
      "-----\n",
      "b1241is associated with reactions:{ACALD, ALCD2x}\n",
      "b0351is associated with reactions:{ACALD}\n",
      "s0001is associated with reactions:{ACALDt, H2Ot, NH4t, CO2t, O2t}\n",
      "b3115is associated with reactions:{ACKr}\n",
      "b1849is associated with reactions:{ACKr}\n",
      "b2296is associated with reactions:{ACKr}\n",
      "b1276is associated with reactions:{ACONTb, ACONTa}\n",
      "b0118is associated with reactions:{ACONTb, ACONTa}\n",
      "b0474is associated with reactions:{ADK1}\n",
      "b0116is associated with reactions:{AKGDH, PDH}\n",
      "b0726is associated with reactions:{AKGDH}\n",
      "b0727is associated with reactions:{AKGDH}\n",
      "b2587is associated with reactions:{AKGt2r}\n",
      "b0356is associated with reactions:{ALCD2x}\n",
      "b1478is associated with reactions:{ALCD2x}\n",
      "b3735is associated with reactions:{ATPS4r}\n",
      "b3733is associated with reactions:{ATPS4r}\n",
      "b3734is associated with reactions:{ATPS4r}\n",
      "b3732is associated with reactions:{ATPS4r}\n",
      "b3736is associated with reactions:{ATPS4r}\n",
      "b3738is associated with reactions:{ATPS4r}\n",
      "b3731is associated with reactions:{ATPS4r}\n",
      "b3737is associated with reactions:{ATPS4r}\n",
      "b3739is associated with reactions:{ATPS4r}\n",
      "b0720is associated with reactions:{CS}\n",
      "b0733is associated with reactions:{CYTBD}\n",
      "b0979is associated with reactions:{CYTBD}\n",
      "b0978is associated with reactions:{CYTBD}\n",
      "b0734is associated with reactions:{CYTBD}\n",
      "b2975is associated with reactions:{D_LACt2}\n",
      "b3603is associated with reactions:{D_LACt2}\n",
      "b2779is associated with reactions:{ENO}\n",
      "b1773is associated with reactions:{FBA}\n",
      "b2925is associated with reactions:{FBA}\n",
      "b2097is associated with reactions:{FBA}\n",
      "b4232is associated with reactions:{FBP}\n",
      "b3925is associated with reactions:{FBP}\n",
      "b0904is associated with reactions:{FORti, FORt2}\n",
      "b2492is associated with reactions:{FORti, FORt2}\n",
      "b4154is associated with reactions:{FRD7}\n",
      "b4152is associated with reactions:{FRD7}\n",
      "b4153is associated with reactions:{FRD7}\n",
      "b4151is associated with reactions:{FRD7}\n",
      "b1819is associated with reactions:{FRUpts2, GLCpts}\n",
      "b1817is associated with reactions:{FRUpts2, GLCpts}\n",
      "b2415is associated with reactions:{FRUpts2, GLCpts}\n",
      "b1818is associated with reactions:{FRUpts2, GLCpts}\n",
      "b2416is associated with reactions:{FRUpts2, GLCpts}\n",
      "b1611is associated with reactions:{FUM}\n",
      "b4122is associated with reactions:{FUM}\n",
      "b1612is associated with reactions:{FUM}\n",
      "b3528is associated with reactions:{MALt2_2, SUCCt2_2, FUMt2_2}\n",
      "b1852is associated with reactions:{G6PDH2r}\n",
      "b1779is associated with reactions:{GAPD}\n",
      "b1621is associated with reactions:{GLCpts}\n",
      "b1101is associated with reactions:{GLCpts}\n",
      "b2417is associated with reactions:{GLCpts}\n",
      "b3870is associated with reactions:{GLNS}\n",
      "b1297is associated with reactions:{GLNS}\n",
      "b0809is associated with reactions:{GLNabc}\n",
      "b0810is associated with reactions:{GLNabc}\n",
      "b0811is associated with reactions:{GLNabc}\n",
      "b1761is associated with reactions:{GLUDy}\n",
      "b1524is associated with reactions:{GLUN}\n",
      "b1812is associated with reactions:{GLUN}\n",
      "b0485is associated with reactions:{GLUN}\n",
      "b3213is associated with reactions:{GLUSy}\n",
      "b3212is associated with reactions:{GLUSy}\n",
      "b4077is associated with reactions:{GLUt2r}\n",
      "b2029is associated with reactions:{GND}\n",
      "b0875is associated with reactions:{H2Ot}\n",
      "b1136is associated with reactions:{ICDHyr}\n",
      "b4015is associated with reactions:{ICL}\n",
      "b2133is associated with reactions:{LDH_D}\n",
      "b1380is associated with reactions:{LDH_D}\n",
      "b4014is associated with reactions:{MALS}\n",
      "b2976is associated with reactions:{MALS}\n",
      "b3236is associated with reactions:{MDH}\n",
      "b1479is associated with reactions:{ME1}\n",
      "b2463is associated with reactions:{ME2}\n",
      "b2286is associated with reactions:{NADH16}\n",
      "b2279is associated with reactions:{NADH16}\n",
      "b2276is associated with reactions:{NADH16}\n",
      "b2280is associated with reactions:{NADH16}\n",
      "b2288is associated with reactions:{NADH16}\n",
      "b2284is associated with reactions:{NADH16}\n",
      "b2287is associated with reactions:{NADH16}\n",
      "b2281is associated with reactions:{NADH16}\n",
      "b2277is associated with reactions:{NADH16}\n",
      "b2285is associated with reactions:{NADH16}\n",
      "b2282is associated with reactions:{NADH16}\n",
      "b2278is associated with reactions:{NADH16}\n",
      "b2283is associated with reactions:{NADH16}\n",
      "b3962is associated with reactions:{NADTRHD}\n",
      "b1602is associated with reactions:{NADTRHD, THD2}\n",
      "b1603is associated with reactions:{NADTRHD, THD2}\n",
      "b0451is associated with reactions:{NH4t}\n",
      "b0114is associated with reactions:{PDH}\n",
      "b0115is associated with reactions:{PDH}\n",
      "b3916is associated with reactions:{PFK}\n",
      "b1723is associated with reactions:{PFK}\n",
      "b0902is associated with reactions:{PFL}\n",
      "b0903is associated with reactions:{PFL}\n",
      "b2579is associated with reactions:{PFL}\n",
      "b3114is associated with reactions:{PFL}\n",
      "b3952is associated with reactions:{PFL}\n",
      "b3951is associated with reactions:{PFL}\n",
      "b4025is associated with reactions:{PGI}\n",
      "b2926is associated with reactions:{PGK}\n",
      "b0767is associated with reactions:{PGL}\n",
      "b0755is associated with reactions:{PGM}\n",
      "b3612is associated with reactions:{PGM}\n",
      "b4395is associated with reactions:{PGM}\n",
      "b3493is associated with reactions:{PIt2r}\n",
      "b2987is associated with reactions:{PIt2r}\n",
      "b3956is associated with reactions:{PPC}\n",
      "b3403is associated with reactions:{PPCK}\n",
      "b1702is associated with reactions:{PPS}\n",
      "b2297is associated with reactions:{PTAr}\n",
      "b2458is associated with reactions:{PTAr}\n",
      "b1676is associated with reactions:{PYK}\n",
      "b1854is associated with reactions:{PYK}\n",
      "b4301is associated with reactions:{RPE}\n",
      "b3386is associated with reactions:{RPE}\n",
      "b2914is associated with reactions:{RPI}\n",
      "b4090is associated with reactions:{RPI}\n",
      "b0722is associated with reactions:{SUCDi}\n",
      "b0724is associated with reactions:{SUCDi}\n",
      "b0721is associated with reactions:{SUCDi}\n",
      "b0723is associated with reactions:{SUCDi}\n",
      "b0728is associated with reactions:{SUCOAS}\n",
      "b0729is associated with reactions:{SUCOAS}\n",
      "b2464is associated with reactions:{TALA}\n",
      "b0008is associated with reactions:{TALA}\n",
      "b2935is associated with reactions:{TKT1, TKT2}\n",
      "b2465is associated with reactions:{TKT1, TKT2}\n",
      "b3919is associated with reactions:{TPI}\n"
     ]
    }
   ],
   "source": [
    "# Iterar a través de los objetos en el modelo:\n",
    "print(\"Reactions\")\n",
    "print(\"---------\")\n",
    "for x in model.reactions:\n",
    "    print(\"%s:%s\" % (x.id, x.reaction))\n",
    "\n",
    "print(\"\")\n",
    "print(\"Metabolites\")\n",
    "print(\"-----------\")\n",
    "for x in model.metabolites:\n",
    "    print('%9s:%s' % (x.id, x.formula))\n",
    "\n",
    "print(\"\")\n",
    "print(\"Genes\")\n",
    "print(\"-----\")\n",
    "for x in model.genes:\n",
    "        associated_ids = (i.id for i in x.reactions)\n",
    "        print(\"%sis associated with reactions:%s\" %\n",
    "              (x.id, \"{\" + \", \".join(associated_ids) + \"}\"))"
   ]
  },
  {
   "cell_type": "markdown",
   "metadata": {},
   "source": [
    "Debido a que los objetos en COBRApy son un tipo especial de Diccionario, estos se pueden recuperar mediante el indice, poniendo entre corchetes [ ] el enésimo elemento en la lista. Por ejemplo, para obtener la quinta reacción en el modelo usamos el siguiente comando (en el índice es 4 debido a que se indexa el 0 como primer elemento):"
   ]
  },
  {
   "cell_type": "code",
   "execution_count": 24,
   "metadata": {},
   "outputs": [
    {
     "data": {
      "text/html": [
       "\n",
       "        <table>\n",
       "            <tr>\n",
       "                <td><strong>Reaction identifier</strong></td><td>ACONTb</td>\n",
       "            </tr><tr>\n",
       "                <td><strong>Name</strong></td><td>aconitase (half-reaction B, Isocitrate hydro-lyase)</td>\n",
       "            </tr><tr>\n",
       "                <td><strong>Memory address</strong></td>\n",
       "                <td>0x013b1c298</td>\n",
       "            </tr><tr>\n",
       "                <td><strong>Stoichiometry</strong></td>\n",
       "                <td>\n",
       "                    <p style='text-align:right'>acon_C_c + h2o_c <=> icit_c</p>\n",
       "                    <p style='text-align:right'>cis-Aconitate + H2O <=> Isocitrate</p>\n",
       "                </td>\n",
       "            </tr><tr>\n",
       "                <td><strong>GPR</strong></td><td>b0118 or b1276</td>\n",
       "            </tr><tr>\n",
       "                <td><strong>Lower bound</strong></td><td>-1000.0</td>\n",
       "            </tr><tr>\n",
       "                <td><strong>Upper bound</strong></td><td>1000.0</td>\n",
       "            </tr>\n",
       "        </table>\n",
       "        "
      ],
      "text/plain": [
       "<Reaction ACONTb at 0x13b1c298>"
      ]
     },
     "execution_count": 24,
     "metadata": {},
     "output_type": "execute_result"
    }
   ],
   "source": [
    "model.reactions[4] #Recupera la información de la quinta reacción indexada"
   ]
  },
  {
   "cell_type": "code",
   "execution_count": 25,
   "metadata": {},
   "outputs": [
    {
     "data": {
      "text/html": [
       "\n",
       "        <table>\n",
       "            <tr>\n",
       "                <td><strong>Metabolite identifier</strong></td><td>accoa_c</td>\n",
       "            </tr><tr>\n",
       "                <td><strong>Name</strong></td><td>Acetyl-CoA</td>\n",
       "            </tr><tr>\n",
       "                <td><strong>Memory address</strong></td>\n",
       "                <td>0x012b0be68</td>\n",
       "            </tr><tr>\n",
       "                <td><strong>Formula</strong></td><td>C23H34N7O17P3S</td>\n",
       "            </tr><tr>\n",
       "                <td><strong>Compartment</strong></td><td>c</td>\n",
       "            </tr><tr>\n",
       "                <td><strong>In 7 reaction(s)</strong></td><td>\n",
       "                    ACALD, PDH, CS, PTAr, MALS, PFL, Biomass_Ecoli_core</td>\n",
       "            </tr>\n",
       "        </table>"
      ],
      "text/plain": [
       "<Metabolite accoa_c at 0x12b0be68>"
      ]
     },
     "execution_count": 25,
     "metadata": {},
     "output_type": "execute_result"
    }
   ],
   "source": [
    "model.metabolites[9] #Recupera la información del décimo metabolito indexado"
   ]
  },
  {
   "cell_type": "code",
   "execution_count": 26,
   "metadata": {},
   "outputs": [
    {
     "data": {
      "text/html": [
       "\n",
       "        <table>\n",
       "            <tr>\n",
       "                <td><strong>Gene identifier</strong></td><td>b1276</td>\n",
       "            </tr><tr>\n",
       "                <td><strong>Name</strong></td><td>acnA</td>\n",
       "            </tr><tr>\n",
       "                <td><strong>Memory address</strong></td>\n",
       "                <td>0x013b104a8</td>\n",
       "            </tr><tr>\n",
       "                <td><strong>Functional</strong></td><td>True</td>\n",
       "            </tr><tr>\n",
       "                <td><strong>In 2 reaction(s)</strong></td><td>\n",
       "                    ACONTb, ACONTa</td>\n",
       "            </tr>\n",
       "        </table>"
      ],
      "text/plain": [
       "<Gene b1276 at 0x13b104a8>"
      ]
     },
     "execution_count": 26,
     "metadata": {},
     "output_type": "execute_result"
    }
   ],
   "source": [
    "model.genes[6]  #Recupera la información del séptimo gen indexado"
   ]
  },
  {
   "cell_type": "markdown",
   "metadata": {},
   "source": [
    "Si se cuenta con el identificador, tambien se puede recuperar información mediante el comando get_by_id de la siguiente manera:"
   ]
  },
  {
   "cell_type": "code",
   "execution_count": 27,
   "metadata": {},
   "outputs": [
    {
     "data": {
      "text/html": [
       "\n",
       "        <table>\n",
       "            <tr>\n",
       "                <td><strong>Metabolite identifier</strong></td><td>atp_c</td>\n",
       "            </tr><tr>\n",
       "                <td><strong>Name</strong></td><td>ATP</td>\n",
       "            </tr><tr>\n",
       "                <td><strong>Memory address</strong></td>\n",
       "                <td>0x012b0bc70</td>\n",
       "            </tr><tr>\n",
       "                <td><strong>Formula</strong></td><td>C10H12N5O13P3</td>\n",
       "            </tr><tr>\n",
       "                <td><strong>Compartment</strong></td><td>c</td>\n",
       "            </tr><tr>\n",
       "                <td><strong>In 13 reaction(s)</strong></td><td>\n",
       "                    ADK1, ATPS4r, PPS, PYK, SUCOAS, PFK, GLNS, GLNabc, ACKr, ATPM, PPCK, PGK, Biomass_Ecoli_core</td>\n",
       "            </tr>\n",
       "        </table>"
      ],
      "text/plain": [
       "<Metabolite atp_c at 0x12b0bc70>"
      ]
     },
     "execution_count": 27,
     "metadata": {},
     "output_type": "execute_result"
    }
   ],
   "source": [
    "model.metabolites.get_by_id(\"atp_c\") #Recupera información del metabolito por identificador"
   ]
  },
  {
   "cell_type": "code",
   "execution_count": 28,
   "metadata": {},
   "outputs": [
    {
     "data": {
      "text/html": [
       "\n",
       "        <table>\n",
       "            <tr>\n",
       "                <td><strong>Reaction identifier</strong></td><td>ACONTb</td>\n",
       "            </tr><tr>\n",
       "                <td><strong>Name</strong></td><td>aconitase (half-reaction B, Isocitrate hydro-lyase)</td>\n",
       "            </tr><tr>\n",
       "                <td><strong>Memory address</strong></td>\n",
       "                <td>0x013b1c298</td>\n",
       "            </tr><tr>\n",
       "                <td><strong>Stoichiometry</strong></td>\n",
       "                <td>\n",
       "                    <p style='text-align:right'>acon_C_c + h2o_c <=> icit_c</p>\n",
       "                    <p style='text-align:right'>cis-Aconitate + H2O <=> Isocitrate</p>\n",
       "                </td>\n",
       "            </tr><tr>\n",
       "                <td><strong>GPR</strong></td><td>b0118 or b1276</td>\n",
       "            </tr><tr>\n",
       "                <td><strong>Lower bound</strong></td><td>-1000.0</td>\n",
       "            </tr><tr>\n",
       "                <td><strong>Upper bound</strong></td><td>1000.0</td>\n",
       "            </tr>\n",
       "        </table>\n",
       "        "
      ],
      "text/plain": [
       "<Reaction ACONTb at 0x13b1c298>"
      ]
     },
     "execution_count": 28,
     "metadata": {},
     "output_type": "execute_result"
    }
   ],
   "source": [
    "model.reactions.get_by_id(\"ACONTb\") #Recupera información de la reacción por identificador"
   ]
  },
  {
   "cell_type": "code",
   "execution_count": 30,
   "metadata": {},
   "outputs": [
    {
     "data": {
      "text/html": [
       "\n",
       "        <table>\n",
       "            <tr>\n",
       "                <td><strong>Gene identifier</strong></td><td>b1276</td>\n",
       "            </tr><tr>\n",
       "                <td><strong>Name</strong></td><td>acnA</td>\n",
       "            </tr><tr>\n",
       "                <td><strong>Memory address</strong></td>\n",
       "                <td>0x013b104a8</td>\n",
       "            </tr><tr>\n",
       "                <td><strong>Functional</strong></td><td>True</td>\n",
       "            </tr><tr>\n",
       "                <td><strong>In 2 reaction(s)</strong></td><td>\n",
       "                    ACONTb, ACONTa</td>\n",
       "            </tr>\n",
       "        </table>"
      ],
      "text/plain": [
       "<Gene b1276 at 0x13b104a8>"
      ]
     },
     "execution_count": 30,
     "metadata": {},
     "output_type": "execute_result"
    }
   ],
   "source": [
    "model.genes.get_by_id(\"b1276\") #Recupera información del gen por identificador"
   ]
  },
  {
   "cell_type": "markdown",
   "metadata": {},
   "source": [
    "### Compartimentos"
   ]
  },
  {
   "cell_type": "markdown",
   "metadata": {},
   "source": [
    "Los metabolitos estan asociados a compartimentos dentro de la célula, dependiendo de la construcción y de la escala del modelo se presentarán o no ciertos compartimentos. Para inspeccionar los compartimentos en un modelo se usa el siguiente comando:"
   ]
  },
  {
   "cell_type": "code",
   "execution_count": 31,
   "metadata": {},
   "outputs": [
    {
     "data": {
      "text/plain": [
       "{'c': 'cytosol', 'e': 'extracellular'}"
      ]
     },
     "execution_count": 31,
     "metadata": {},
     "output_type": "execute_result"
    }
   ],
   "source": [
    "model.compartments  #muestra los compartimentos usados en el modelo y sus abreviaciones"
   ]
  },
  {
   "cell_type": "markdown",
   "metadata": {},
   "source": [
    "Se puede saber el compartimento asociado a un metabolito, por ejemplo para Acetyl-CoA, usando el siguiente comando: "
   ]
  },
  {
   "cell_type": "code",
   "execution_count": 32,
   "metadata": {},
   "outputs": [
    {
     "data": {
      "text/plain": [
       "'c'"
      ]
     },
     "execution_count": 32,
     "metadata": {},
     "output_type": "execute_result"
    }
   ],
   "source": [
    "model.metabolites.accoa_c.compartment #Despliega la abreviatura del compartimento donde se ubica Acetyl-CoA "
   ]
  },
  {
   "cell_type": "markdown",
   "metadata": {},
   "source": [
    "### Metabolitos"
   ]
  },
  {
   "cell_type": "markdown",
   "metadata": {},
   "source": [
    "Además de la lista iterada de todos los metabolitos en el modelo, también se puede accesar a un grupo de elementos continuos dentro de la lista. Por ejemplo, a continuación se muestra una lista con los primeros diez metabolitos indexados al modelo:"
   ]
  },
  {
   "cell_type": "code",
   "execution_count": 33,
   "metadata": {},
   "outputs": [
    {
     "data": {
      "text/plain": [
       "[<Metabolite 13dpg_c at 0x12b0bbc8>,\n",
       " <Metabolite 2pg_c at 0x12b0bbb0>,\n",
       " <Metabolite 3pg_c at 0x12b0bc88>,\n",
       " <Metabolite 6pgc_c at 0x12b0bd18>,\n",
       " <Metabolite 6pgl_c at 0x12b0bd90>,\n",
       " <Metabolite ac_c at 0x12b0bdc0>,\n",
       " <Metabolite ac_e at 0x12b0bdf0>,\n",
       " <Metabolite acald_c at 0x12b0be38>,\n",
       " <Metabolite acald_e at 0x12b0be50>,\n",
       " <Metabolite accoa_c at 0x12b0be68>]"
      ]
     },
     "execution_count": 33,
     "metadata": {},
     "output_type": "execute_result"
    }
   ],
   "source": [
    "model.metabolites[0:10]"
   ]
  },
  {
   "cell_type": "markdown",
   "metadata": {},
   "source": [
    "Se puede accesar a la información de un metabolito especifico usando la notación de puntos conociendo el identificador del elemento, la lista desplegada proporcionará el nombre completo del metabolito, ubicación en memoria, formula molecular, compartimento y reacciones asociadas en el modelo:\n",
    "\n",
    "**No se puede usar esta notación para acceder a metabolitos, genes o reacciones si los identificadores no se parecen a los nombres de variables adecuados de python. En este caso se puede usar el comando get_by_id"
   ]
  },
  {
   "cell_type": "code",
   "execution_count": 34,
   "metadata": {},
   "outputs": [
    {
     "data": {
      "text/html": [
       "\n",
       "        <table>\n",
       "            <tr>\n",
       "                <td><strong>Metabolite identifier</strong></td><td>g3p_c</td>\n",
       "            </tr><tr>\n",
       "                <td><strong>Name</strong></td><td>Glyceraldehyde 3-phosphate</td>\n",
       "            </tr><tr>\n",
       "                <td><strong>Memory address</strong></td>\n",
       "                <td>0x012b21400</td>\n",
       "            </tr><tr>\n",
       "                <td><strong>Formula</strong></td><td>C3H5O6P</td>\n",
       "            </tr><tr>\n",
       "                <td><strong>Compartment</strong></td><td>c</td>\n",
       "            </tr><tr>\n",
       "                <td><strong>In 7 reaction(s)</strong></td><td>\n",
       "                    TALA, TKT1, TKT2, FBA, TPI, GAPD, Biomass_Ecoli_core</td>\n",
       "            </tr>\n",
       "        </table>"
      ],
      "text/plain": [
       "<Metabolite g3p_c at 0x12b21400>"
      ]
     },
     "execution_count": 34,
     "metadata": {},
     "output_type": "execute_result"
    }
   ],
   "source": [
    "model.metabolites.g3p_c  #Recuperar información de un metabolito mediante identificador"
   ]
  },
  {
   "cell_type": "markdown",
   "metadata": {},
   "source": [
    "El nombre completo del metabolito puede estar disponible con el atributo .name "
   ]
  },
  {
   "cell_type": "code",
   "execution_count": 37,
   "metadata": {},
   "outputs": [
    {
     "data": {
      "text/plain": [
       "'Glyceraldehyde 3-phosphate'"
      ]
     },
     "execution_count": 37,
     "metadata": {},
     "output_type": "execute_result"
    }
   ],
   "source": [
    "model.metabolites.g3p_c.name  #Se muestra el nombre completo del metabolito"
   ]
  },
  {
   "cell_type": "markdown",
   "metadata": {},
   "source": [
    "La formula molecular se muestra con el atributo .formula"
   ]
  },
  {
   "cell_type": "code",
   "execution_count": 39,
   "metadata": {},
   "outputs": [
    {
     "data": {
      "text/plain": [
       "'C3H5O6P'"
      ]
     },
     "execution_count": 39,
     "metadata": {},
     "output_type": "execute_result"
    }
   ],
   "source": [
    "model.metabolites.g3p_c.formula #Se muestra la formula molecular del metabolito"
   ]
  },
  {
   "cell_type": "markdown",
   "metadata": {},
   "source": [
    "Para mostrar una representación en diccionario de la formula se usa el atributo .elements"
   ]
  },
  {
   "cell_type": "code",
   "execution_count": 40,
   "metadata": {},
   "outputs": [
    {
     "data": {
      "text/plain": [
       "{'C': 3, 'H': 5, 'O': 6, 'P': 1}"
      ]
     },
     "execution_count": 40,
     "metadata": {},
     "output_type": "execute_result"
    }
   ],
   "source": [
    "model.metabolites.g3p_c.elements"
   ]
  },
  {
   "cell_type": "markdown",
   "metadata": {},
   "source": [
    "El peso molecular del metabolito se muestra con el atributo .formula_weight"
   ]
  },
  {
   "cell_type": "code",
   "execution_count": 41,
   "metadata": {},
   "outputs": [
    {
     "data": {
      "text/plain": [
       "168.041961"
      ]
     },
     "execution_count": 41,
     "metadata": {},
     "output_type": "execute_result"
    }
   ],
   "source": [
    "model.metabolites.g3p_c.formula_weight"
   ]
  },
  {
   "cell_type": "markdown",
   "metadata": {},
   "source": [
    "Para conocer la carga de la molécula en nuestro modelo, usamos el atributo .charge"
   ]
  },
  {
   "cell_type": "code",
   "execution_count": 47,
   "metadata": {},
   "outputs": [
    {
     "data": {
      "text/plain": [
       "-2"
      ]
     },
     "execution_count": 47,
     "metadata": {},
     "output_type": "execute_result"
    }
   ],
   "source": [
    "model.metabolites.g3p_c.charge"
   ]
  },
  {
   "cell_type": "markdown",
   "metadata": {},
   "source": [
    "Para mostrar las reacciones en las que participa un metabolito, basta con usar el atributo .reactions"
   ]
  },
  {
   "cell_type": "code",
   "execution_count": 42,
   "metadata": {},
   "outputs": [
    {
     "data": {
      "text/plain": [
       "frozenset({<Reaction Biomass_Ecoli_core at 0x13b1cfe8>,\n",
       "           <Reaction FBA at 0x13b3c670>,\n",
       "           <Reaction GAPD at 0x13b3cdc0>,\n",
       "           <Reaction TALA at 0x13b63da8>,\n",
       "           <Reaction TKT1 at 0x13b71730>,\n",
       "           <Reaction TKT2 at 0x13b63c40>,\n",
       "           <Reaction TPI at 0x13b7daa8>})"
      ]
     },
     "execution_count": 42,
     "metadata": {},
     "output_type": "execute_result"
    }
   ],
   "source": [
    "model.metabolites.g3p_c.reactions"
   ]
  },
  {
   "cell_type": "markdown",
   "metadata": {},
   "source": [
    "En algunas ocaciones, los modelos cuentan con información adicional (como referencias a bases de datos externas o identificadores) que pueden ser mostradas con el atributo .annotation"
   ]
  },
  {
   "cell_type": "code",
   "execution_count": 43,
   "metadata": {
    "scrolled": true
   },
   "outputs": [
    {
     "data": {
      "text/plain": [
       "{'bigg.metabolite': 'g3p',\n",
       " 'cas': ['142-10-9'],\n",
       " 'chebi': ['CHEBI:17138', 'CHEBI:14333', 'CHEBI:5446', 'CHEBI:58027'],\n",
       " 'hmdb': 'HMDB01112',\n",
       " 'kegg.compound': ['C00661', 'C00118'],\n",
       " 'pubchem.substance': '3930',\n",
       " 'seed.compound': 'cpd00102',\n",
       " 'unipathway.compound': ['UPC00661', 'UPC00118']}"
      ]
     },
     "execution_count": 43,
     "metadata": {},
     "output_type": "execute_result"
    }
   ],
   "source": [
    "model.metabolites.g3p_c.annotation"
   ]
  },
  {
   "cell_type": "markdown",
   "metadata": {},
   "source": [
    "### Reacciones"
   ]
  },
  {
   "cell_type": "markdown",
   "metadata": {},
   "source": [
    "Para mostrar las primeras 10 reacciones del modelo usamos el siguiente comando:"
   ]
  },
  {
   "cell_type": "code",
   "execution_count": 48,
   "metadata": {},
   "outputs": [
    {
     "data": {
      "text/plain": [
       "[<Reaction ACALD at 0x13b10400>,\n",
       " <Reaction ACALDt at 0x13b1c028>,\n",
       " <Reaction ACKr at 0x13b1c538>,\n",
       " <Reaction ACONTa at 0x13b1c4d8>,\n",
       " <Reaction ACONTb at 0x13b1c298>,\n",
       " <Reaction ACt2r at 0x13b1c5b0>,\n",
       " <Reaction ADK1 at 0x13b1c688>,\n",
       " <Reaction AKGDH at 0x13b1c880>,\n",
       " <Reaction AKGt2r at 0x13b1c7c0>,\n",
       " <Reaction ALCD2x at 0x13b1cbf8>]"
      ]
     },
     "execution_count": 48,
     "metadata": {},
     "output_type": "execute_result"
    }
   ],
   "source": [
    "model.reactions[0:10]"
   ]
  },
  {
   "cell_type": "markdown",
   "metadata": {},
   "source": [
    "Podemos ver la ecuación de una reacción dada usando la notación de puntos con el atributo .name (para el siguiente ejemplo usando el identificador de la primera reacción indexada):"
   ]
  },
  {
   "cell_type": "code",
   "execution_count": 53,
   "metadata": {},
   "outputs": [
    {
     "data": {
      "text/plain": [
       "'acald_c + coa_c + nad_c <=> accoa_c + h_c + nadh_c'"
      ]
     },
     "execution_count": 53,
     "metadata": {},
     "output_type": "execute_result"
    }
   ],
   "source": [
    "model.reactions.ACALD.reaction"
   ]
  },
  {
   "cell_type": "markdown",
   "metadata": {},
   "source": [
    "Para devolver el nombre de una reacción usando su identificador, podemos hacer uso del atributo .name como se muestra a continuación para la reacción ACALD:"
   ]
  },
  {
   "cell_type": "code",
   "execution_count": 54,
   "metadata": {},
   "outputs": [
    {
     "data": {
      "text/plain": [
       "'acetaldehyde dehydrogenase (acetylating)'"
      ]
     },
     "execution_count": 54,
     "metadata": {},
     "output_type": "execute_result"
    }
   ],
   "source": [
    "model.reactions.ACALD.name"
   ]
  },
  {
   "cell_type": "markdown",
   "metadata": {},
   "source": [
    "En el caso de necesitar la información de las reacciones asociadas a un metabolito específico podemos apoyarnos de una iteración como la mostrada a continuación. En este ejemplo nos acercaremos a las reacciones vinculadas al Gliceraldehído-3-fosfato (g3p)."
   ]
  },
  {
   "cell_type": "code",
   "execution_count": 49,
   "metadata": {},
   "outputs": [
    {
     "name": "stdout",
     "output_type": "stream",
     "text": [
      "TALA: g3p_c + s7p_c <=> e4p_c + f6p_c transaldolase\n",
      "TKT1: r5p_c + xu5p__D_c <=> g3p_c + s7p_c transketolase\n",
      "TKT2: e4p_c + xu5p__D_c <=> f6p_c + g3p_c transketolase\n",
      "FBA: fdp_c <=> dhap_c + g3p_c fructose-bisphosphate aldolase\n",
      "TPI: dhap_c <=> g3p_c triose-phosphate isomerase\n",
      "GAPD: g3p_c + nad_c + pi_c <=> 13dpg_c + h_c + nadh_c glyceraldehyde-3-phosphate dehydrogenase\n",
      "Biomass_Ecoli_core: 1.496 3pg_c + 3.7478 accoa_c + 59.81 atp_c + 0.361 e4p_c + 0.0709 f6p_c + 0.129 g3p_c + 0.205 g6p_c + 0.2557 gln__L_c + 4.9414 glu__L_c + 59.81 h2o_c + 3.547 nad_c + 13.0279 nadph_c + 1.7867 oaa_c + 0.5191 pep_c + 2.8328 pyr_c + 0.8977 r5p_c --> 59.81 adp_c + 4.1182 akg_c + 3.7478 coa_c + 59.81 h_c + 3.547 nadh_c + 13.0279 nadp_c + 59.81 pi_c Biomass Objective Function with GAM\n"
     ]
    }
   ],
   "source": [
    "for reaction in model.metabolites.g3p_c.reactions:\n",
    "    print(reaction, reaction.name)"
   ]
  },
  {
   "cell_type": "markdown",
   "metadata": {},
   "source": [
    "En el contexto de modelos metabólicos, las reacciones añaden restricciones al modelo definidas por los limites superior e inferior, las cuales pueden definirse como los valores limitantes que pueden ser tomados. Para ver los límites configurados para una reacción usamos los siguentes comandos:"
   ]
  },
  {
   "cell_type": "code",
   "execution_count": 63,
   "metadata": {},
   "outputs": [
    {
     "name": "stdout",
     "output_type": "stream",
     "text": [
      "-1000.0\n",
      "1000.0\n"
     ]
    }
   ],
   "source": [
    "print(model.reactions.GAPD.lower_bound) #imprime el límite inferior de la reacción\n",
    "print(model.reactions.GAPD.upper_bound) #imprime el límite superior de la reacción"
   ]
  },
  {
   "cell_type": "markdown",
   "metadata": {},
   "source": [
    "En el ejemplo anterior observamos que ambos límites son diferentes de cero, lo que nos indica que la reacción presenta reversibilidad, y la reacción puede dirigirse hacia ambos sentidos. Para comprobar la reversibilidad de una reacción podemos usar el atributo .reversibility"
   ]
  },
  {
   "cell_type": "code",
   "execution_count": 64,
   "metadata": {},
   "outputs": [
    {
     "data": {
      "text/plain": [
       "True"
      ]
     },
     "execution_count": 64,
     "metadata": {},
     "output_type": "execute_result"
    }
   ],
   "source": [
    "model.reactions.GAPD.reversibility #Comando de prueba para reversibilidad, devuelve un valor booleano"
   ]
  },
  {
   "cell_type": "markdown",
   "metadata": {},
   "source": [
    "### Genes"
   ]
  },
  {
   "cell_type": "markdown",
   "metadata": {},
   "source": [
    "Los modelos en COBRApy tambien contienen genes y estos pertenecen a las reacciones asociadas. Para mostrar una lista con los primeros 10 genes indexados al modelo, usamos:"
   ]
  },
  {
   "cell_type": "code",
   "execution_count": 65,
   "metadata": {},
   "outputs": [
    {
     "data": {
      "text/plain": [
       "[<Gene b1241 at 0x13b103e8>,\n",
       " <Gene b0351 at 0x13b10058>,\n",
       " <Gene s0001 at 0x13b10040>,\n",
       " <Gene b3115 at 0x13b103d0>,\n",
       " <Gene b1849 at 0x13b103b8>,\n",
       " <Gene b2296 at 0x13b10028>,\n",
       " <Gene b1276 at 0x13b104a8>,\n",
       " <Gene b0118 at 0x13b10490>,\n",
       " <Gene b0474 at 0x13b104f0>,\n",
       " <Gene b0116 at 0x13b10388>]"
      ]
     },
     "execution_count": 65,
     "metadata": {},
     "output_type": "execute_result"
    }
   ],
   "source": [
    "model.genes[0:10]"
   ]
  },
  {
   "cell_type": "markdown",
   "metadata": {},
   "source": [
    "Como se mencionó, los genes pertenecen a las reacciones, por lo tanto podemos devolver el identificador de las reacciones a las que estan asociados dichos genes. a continucación se presenta el ejemplo para el primer gen mostrado (b1241):"
   ]
  },
  {
   "cell_type": "code",
   "execution_count": 66,
   "metadata": {},
   "outputs": [
    {
     "data": {
      "text/plain": [
       "frozenset({<Reaction ACALD at 0x13b10400>, <Reaction ALCD2x at 0x13b1cbf8>})"
      ]
     },
     "execution_count": 66,
     "metadata": {},
     "output_type": "execute_result"
    }
   ],
   "source": [
    "model.genes.b1241.reactions"
   ]
  },
  {
   "cell_type": "markdown",
   "metadata": {},
   "source": [
    "Este gen está asociado a dos reacciones, ACALD y ALCD2x. Para saber el número de genes a los que está asociado una reacción, por ejemplo ACALD, usamos el siguiente atributo:"
   ]
  },
  {
   "cell_type": "code",
   "execution_count": 76,
   "metadata": {},
   "outputs": [
    {
     "data": {
      "text/plain": [
       "'b0351 or b1241'"
      ]
     },
     "execution_count": 76,
     "metadata": {},
     "output_type": "execute_result"
    }
   ],
   "source": [
    "model.reactions.ACALD.gene_reaction_rule #Devuelve los identificadores de los genes asociados a la reacción"
   ]
  },
  {
   "cell_type": "markdown",
   "metadata": {},
   "source": [
    "En algunos casos, una reacción está asociada a solo un gen, y en otros casos, la reacción puede estar asociada a mas de uno. En el caso de ACALD parece estar asociado a dos isoenzimas. El siguiente comando devuelve el nombre de los genes en vez del identificador: "
   ]
  },
  {
   "cell_type": "code",
   "execution_count": 77,
   "metadata": {},
   "outputs": [
    {
     "data": {
      "text/plain": [
       "'mhpF or adhE'"
      ]
     },
     "execution_count": 77,
     "metadata": {},
     "output_type": "execute_result"
    }
   ],
   "source": [
    "model.reactions.ACALD.gene_name_reaction_rule #Devuelve los nombres de los genes asociados a la reacción"
   ]
  },
  {
   "cell_type": "markdown",
   "metadata": {},
   "source": [
    "Es muy importante saber que las reacciones solo serán funcionales si todos los genes son funcionales y siguen las reglas booleanas. Para saber el estado de un gen en un modelo usamos el atributo .functional:"
   ]
  },
  {
   "cell_type": "code",
   "execution_count": 78,
   "metadata": {},
   "outputs": [
    {
     "name": "stdout",
     "output_type": "stream",
     "text": [
      "True True\n"
     ]
    }
   ],
   "source": [
    "print(model.genes.b0351.functional, model.genes.b1241.functional) #Devuelve el valor booleano del estado de los genes"
   ]
  },
  {
   "cell_type": "code",
   "execution_count": 79,
   "metadata": {},
   "outputs": [
    {
     "name": "stdout",
     "output_type": "stream",
     "text": [
      "True\n"
     ]
    }
   ],
   "source": [
    "print(model.reactions.ACALD.functional) #Devuelve el valor booleano del estado funcional de la reacción"
   ]
  },
  {
   "cell_type": "markdown",
   "metadata": {},
   "source": [
    "Si eliminamos (knock out) una de las isoenzimas, la reacción de ACALD permanece funcional, pero no si eliminamos ambas."
   ]
  },
  {
   "cell_type": "code",
   "execution_count": 80,
   "metadata": {},
   "outputs": [
    {
     "name": "stdout",
     "output_type": "stream",
     "text": [
      "True\n",
      "False\n"
     ]
    }
   ],
   "source": [
    "model_copy = model.copy()  #Se crea un modelo copia para no alterar al modelo originar con la función model.copy()\n",
    "model_copy.genes.b0351.knock_out() #con la función knock_out() eliminamos uno de los genes\n",
    "print(model_copy.reactions.ACALD.functional) #Se evalua si la reacción sigue siendo funcional al eliminar dicho gen\n",
    "\n",
    "model_copy = model.copy() \n",
    "model_copy.genes.b0351.knock_out()\n",
    "model_copy.genes.b1241.knock_out()\n",
    "print(model_copy.reactions.ACALD.functional) #Se evalua si la reacción sigue siendo funcional al eliminar ambos genes"
   ]
  },
  {
   "cell_type": "markdown",
   "metadata": {},
   "source": [
    "El método anterior para evaluar la deleción de genes puede ser usado para no alterar el modelo original al usar un modelo copia. Otra forma de evaluar los genes y la funcionalidad de las reacciones asociadas es mediante la función delete_model_genes, la cual evaluará los genes activos y configurará los límites de la reacción. La función puede preservar deleciones existentes o reiniciarlas usando la bandera cumulative_flag (True para acumular deleciones)."
   ]
  },
  {
   "cell_type": "code",
   "execution_count": 89,
   "metadata": {},
   "outputs": [
    {
     "name": "stdout",
     "output_type": "stream",
     "text": [
      "after 1 KO:-1000< flux_ACALD <1000\n",
      "after 2 KO:   0< flux_ACALD <   0\n"
     ]
    }
   ],
   "source": [
    "cobra.manipulation.delete_model_genes(model,[\"b0351\"], cumulative_deletions=True)\n",
    "print(\"after 1 KO:%4d< flux_ACALD <%4d\" % (model.reactions.ACALD.lower_bound, model.reactions.ACALD.upper_bound))\n",
    "\n",
    "cobra.manipulation.delete_model_genes(model, [\"b1241\"], cumulative_deletions=True)\n",
    "print(\"after 2 KO:%4d< flux_ACALD <%4d\" % (model.reactions.ACALD.lower_bound, model.reactions.ACALD.upper_bound))"
   ]
  },
  {
   "cell_type": "markdown",
   "metadata": {},
   "source": [
    "Para reiniciar las deleciones hechas en el modelo, podemos usar el comando undelete_model_genes, con lo cual los genes eliminados pueden reestablecerse."
   ]
  },
  {
   "cell_type": "code",
   "execution_count": 88,
   "metadata": {},
   "outputs": [
    {
     "name": "stdout",
     "output_type": "stream",
     "text": [
      "-1000.0 < ACALD < 1000.0\n"
     ]
    }
   ],
   "source": [
    "cobra.manipulation.undelete_model_genes(model)\n",
    "print(model.reactions.ACALD.lower_bound, \"< ACALD <\", model.reactions.ACALD.upper_bound)"
   ]
  },
  {
   "cell_type": "markdown",
   "metadata": {},
   "source": [
    "### Función Objetivo"
   ]
  },
  {
   "cell_type": "markdown",
   "metadata": {},
   "source": [
    "El modelo está construido en el contexto de los problemas de optimización, por lo tanto es importante definir la función objetivo del sistema, el cual pertenece a cualquiera de la lista de reacciones indexadas en el modelo. Para conocer el objetivo configurado por defecto, podemos utilizar el siguiente comando:"
   ]
  },
  {
   "cell_type": "code",
   "execution_count": 3,
   "metadata": {},
   "outputs": [
    {
     "name": "stdout",
     "output_type": "stream",
     "text": [
      "Maximize\n",
      "1.0*Biomass_Ecoli_core - 1.0*Biomass_Ecoli_core_reverse_2cdba\n"
     ]
    }
   ],
   "source": [
    "print(model.objective)"
   ]
  },
  {
   "cell_type": "markdown",
   "metadata": {},
   "source": [
    "Lo anterior muestra que el flujo de la función objetivo está configurado para ser maximizado. También se muestra la ecuación que el Solver de COBRApy utilizará para encontrar la solución al problema de optimización."
   ]
  },
  {
   "cell_type": "markdown",
   "metadata": {},
   "source": [
    "Para configurar una reacción diferente como objetivo, podemos hacer uso del atributo .objective. A continuación cambiaremos el objetivo de biomasa a la reacción ACALD:"
   ]
  },
  {
   "cell_type": "code",
   "execution_count": 5,
   "metadata": {},
   "outputs": [
    {
     "name": "stdout",
     "output_type": "stream",
     "text": [
      "Maximize\n",
      "1.0*ACALD - 1.0*ACALD_reverse_fda2b\n"
     ]
    }
   ],
   "source": [
    "model.objective = 'ACALD'\n",
    "print(model.objective)"
   ]
  },
  {
   "cell_type": "markdown",
   "metadata": {},
   "source": [
    "## Simulaciones con COBRApy"
   ]
  },
  {
   "cell_type": "markdown",
   "metadata": {},
   "source": [
    "### Simulaciones de Análisis de Balances de Flujos (FBA)"
   ]
  },
  {
   "cell_type": "markdown",
   "metadata": {},
   "source": [
    "Una de las caracteristicas principales de COBRA Python es su capacidad para realizar simulaciones en el contexto del Análisis de Balance de Flujos o FBA (Flux Balance Analysis). El solver de COBRApy  puede resolver el problema de optimización tan sencillo como usar la función model.optimize() la cual puede maximizar o minimizar el flujo de la reacción seleccionada como objetivo (maximizando por defecto). La función model.optimize() devolverá como objeto la solución al flujo objetivo, que tendrá muchos atributos, como por ejemplo el valor objetivo, el status de la simulación (esto es, si la solución es optima o no factible), o una lista de flujos para todas las reacciones."
   ]
  },
  {
   "cell_type": "code",
   "execution_count": 7,
   "metadata": {},
   "outputs": [
    {
     "name": "stdout",
     "output_type": "stream",
     "text": [
      "<Solution 0.874 at 0x1391fd00>\n"
     ]
    }
   ],
   "source": [
    "from __future__ import print_function\n",
    "import cobra\n",
    "import cobra.test\n",
    "\n",
    "model = cobra.test.create_test_model(\"textbook\")\n",
    "\n",
    "solution = model.optimize()  #Guarda una variable con el valor de la función objetivo\n",
    "print(solution)"
   ]
  },
  {
   "cell_type": "markdown",
   "metadata": {},
   "source": [
    "Algunas veces no se podrá encontrar una solución para la configuración del modelo, por ejemplo, al configurar el límite inferior de una reacción con un valor muy alto que el Solver no pueda resolver. En ese caso se mostrará un mensaje de alerta al intentar optimizar el modelo."
   ]
  },
  {
   "cell_type": "code",
   "execution_count": 9,
   "metadata": {},
   "outputs": [
    {
     "name": "stderr",
     "output_type": "stream",
     "text": [
      "cobra\\util\\solver.py:416 UserWarning: solver status is 'infeasible'\n"
     ]
    },
    {
     "data": {
      "text/html": [
       "<strong><em>infeasible</em> solution</strong>"
      ],
      "text/plain": [
       "<Solution infeasible at 0x13ceec88>"
      ]
     },
     "execution_count": 9,
     "metadata": {},
     "output_type": "execute_result"
    }
   ],
   "source": [
    "infeasible_model = model.copy()\n",
    "infeasible_model.reactions.Biomass_Ecoli_core.lower_bound = 100000\n",
    "infeasible_model.optimize()"
   ]
  },
  {
   "cell_type": "markdown",
   "metadata": {},
   "source": [
    "Aunque la velocidad de resolución del problema de optimización usando los solvers matematicos de COBRApy es muy rápida, se pueden obtener resultados todavía más rápidos si solo se necesita del valor de flujo de una reacción específica o del valor objetivo, es este caso podemos apoyarnos del comando model.slim_optimize:"
   ]
  },
  {
   "cell_type": "code",
   "execution_count": 10,
   "metadata": {},
   "outputs": [
    {
     "name": "stdout",
     "output_type": "stream",
     "text": [
      "Wall time: 22.1 ms\n"
     ]
    },
    {
     "data": {
      "text/plain": [
       "8.39"
      ]
     },
     "execution_count": 10,
     "metadata": {},
     "output_type": "execute_result"
    }
   ],
   "source": [
    "%%time   #Use este comando para registrar el tiempo de reloj del proceso\n",
    "solution = model.optimize()\n",
    "solution.fluxes['ATPM']"
   ]
  },
  {
   "cell_type": "code",
   "execution_count": 11,
   "metadata": {},
   "outputs": [
    {
     "name": "stdout",
     "output_type": "stream",
     "text": [
      "Wall time: 0 ns\n"
     ]
    },
    {
     "data": {
      "text/plain": [
       "8.39"
      ]
     },
     "execution_count": 11,
     "metadata": {},
     "output_type": "execute_result"
    }
   ],
   "source": [
    "%%time\n",
    "model.slim_optimize()  #Este comando calculará el flujo dado de manera más rápida\n",
    "model.reactions.ATPM.flux"
   ]
  },
  {
   "cell_type": "markdown",
   "metadata": {},
   "source": [
    "### El problema matemático"
   ]
  },
  {
   "cell_type": "markdown",
   "metadata": {},
   "source": [
    "¿Cómo resuelve el Solver de COBRApy el problema de optimización en los modelos metabólicos? El Solver puede calcular los flujos de las reacciones usando nuestro modelo como un problema matemático. Ahí, los flujos a través de las reacciones se convierten en variables y los metabolitos se convierten en restricciones. Al asumir que los flujos que entran y salen del sistema deben sumar cero (estado estacionario) podemos calcular los posibles valores de flujo para todas las reacciones (distribución de flujos) si es que el modelo es factible. Para inspeccionar la ecuación matemática completa, usamos el siguiente comando:"
   ]
  },
  {
   "cell_type": "code",
   "execution_count": 12,
   "metadata": {},
   "outputs": [
    {
     "name": "stdout",
     "output_type": "stream",
     "text": [
      "\\* Problem: Unknown *\\\n",
      "\n",
      "Maximize\n",
      " obj: + Biomass_Ecoli_core - Biomass_Ecoli_core_reverse_2cdba\n",
      "\n",
      "Subject To\n",
      " r_1: - PGK_reverse_02696 + PGK - GAPD_reverse_459c1 + GAPD = 0\n",
      " r_2: + PGM_reverse_fc9af - PGM + ENO_reverse_40eea - ENO = 0\n",
      " r_3: - PGM_reverse_fc9af + PGM + PGK_reverse_02696 - PGK\n",
      " + 1.496 Biomass_Ecoli_core_reverse_2cdba - 1.496 Biomass_Ecoli_core = 0\n",
      " r_4: - PGL_reverse_2bb6b + PGL + GND_reverse_eec5c - GND = 0\n",
      " r_5: + PGL_reverse_2bb6b - PGL - G6PDH2r_reverse_19ddf + G6PDH2r = 0\n",
      " ac_c: - ACt2r_reverse_64e05 + ACt2r + ACKr_reverse_b49c0 - ACKr = 0\n",
      " ac_e: + EX_ac_e_reverse_0be96 - EX_ac_e + ACt2r_reverse_64e05 - ACt2r\n",
      " = 0\n",
      " acald_c: - ALCD2x_reverse_5d107 + ALCD2x - ACALDt_reverse_858fa\n",
      " + ACALDt + ACALD_reverse_fda2b - ACALD = 0\n",
      " acald_e: + EX_acald_e_reverse_c096e - EX_acald_e + ACALDt_reverse_858fa\n",
      " - ACALDt = 0\n",
      " accoa_c: + PTAr_reverse_fce15 - PTAr - PFL_reverse_af9ec + PFL\n",
      " - PDH_reverse_ca160 + PDH + MALS_reverse_d7382 - MALS\n",
      " + CS_reverse_8d7e9 - CS + 3.7478 Biomass_Ecoli_core_reverse_2cdba\n",
      " - 3.7478 Biomass_Ecoli_core - ACALD_reverse_fda2b + ACALD = 0\n",
      " acon_C_c: + ACONTb_reverse_e198a - ACONTb - ACONTa_reverse_cad6d\n",
      " + ACONTa = 0\n",
      " actp_c: - PTAr_reverse_fce15 + PTAr - ACKr_reverse_b49c0 + ACKr = 0\n",
      " adp_c: - SUCOAS_reverse_22958 + SUCOAS + PYK_reverse_bc8ff - PYK\n",
      " - PPCK_reverse_2557d + PPCK - PGK_reverse_02696 + PGK\n",
      " - PFK_reverse_d24a6 + PFK - GLNabc_reverse_1d82a + GLNabc\n",
      " - GLNS_reverse_59581 + GLNS - 59.81 Biomass_Ecoli_core_reverse_2cdba\n",
      " + 59.81 Biomass_Ecoli_core + ATPS4r_reverse_64306 - ATPS4r\n",
      " - AT\n"
     ]
    }
   ],
   "source": [
    "print(str(model.solver)[0:1550])"
   ]
  },
  {
   "cell_type": "markdown",
   "metadata": {},
   "source": [
    "Debido a que COBRApy utilizará Solvers matemáticos dedicados y optlang para hacer el trabajo duro por nosotros, afortunadamente no tenemos que preocuparnos mucho por la dinámica de esto, sin embargo puede ser bueno conocer la separación entre el modelo metabólico y el problema matemático."
   ]
  },
  {
   "cell_type": "code",
   "execution_count": 14,
   "metadata": {},
   "outputs": [
    {
     "name": "stdout",
     "output_type": "stream",
     "text": [
      "190\n",
      "72\n"
     ]
    }
   ],
   "source": [
    "print(len(model.variables))\n",
    "print(len(model.constraints))"
   ]
  },
  {
   "cell_type": "markdown",
   "metadata": {},
   "source": [
    "### La matriz estequiométrica S"
   ]
  },
  {
   "cell_type": "markdown",
   "metadata": {},
   "source": [
    "La matriz estequiométrica S es la representación del conjunto de metabolitos (filas) entrando y saliendo en el listado de reacciones químicas que conforman al modelo metabólico (columnas). Los valores iguales a cero corresponden a los metabolitos que no están activos en esa reacción y los valores diferentes a cero corresponden al valor estequiométrico de dicho metabolito. La matriz estequiométrica S es importante para resolver el problema de optimización debido a que otorga una carga de restricciones al modelo. "
   ]
  },
  {
   "cell_type": "code",
   "execution_count": 15,
   "metadata": {},
   "outputs": [
    {
     "data": {
      "text/plain": [
       "array([[ 0.,  0.,  0., ...,  0.,  0.,  0.],\n",
       "       [ 0.,  0.,  0., ...,  0.,  0.,  0.],\n",
       "       [ 0.,  0.,  0., ...,  0.,  0.,  0.],\n",
       "       ...,\n",
       "       [ 0.,  0.,  0., ...,  0.,  0.,  0.],\n",
       "       [ 0.,  0.,  0., ...,  0.,  0.,  0.],\n",
       "       [ 0.,  0.,  0., ..., -1., -1.,  0.]])"
      ]
     },
     "execution_count": 15,
     "metadata": {},
     "output_type": "execute_result"
    }
   ],
   "source": [
    "from cobra.util import create_stoichiometric_matrix\n",
    "\n",
    "stoich_matrix = create_stoichiometric_matrix(model)\n",
    "stoich_matrix"
   ]
  },
  {
   "cell_type": "markdown",
   "metadata": {},
   "source": [
    "A continuación se muestra como se vería la matriz estequiométrica S cuando se visualiza como una grafica de puntos:\n",
    "\n",
    "**Nota: solo funciona en Jupiter Notebook o en un editor con capacidad gráfica, terminales no."
   ]
  },
  {
   "cell_type": "code",
   "execution_count": 20,
   "metadata": {},
   "outputs": [
    {
     "data": {
      "text/plain": [
       "<matplotlib.lines.Line2D at 0x15397d18>"
      ]
     },
     "execution_count": 20,
     "metadata": {},
     "output_type": "execute_result"
    },
    {
     "data": {
      "image/png": "[encoded data removed]",
      "text/plain": [
       "<Figure size 432x288 with 1 Axes>"
      ]
     },
     "metadata": {
      "needs_background": "light"
     },
     "output_type": "display_data"
    }
   ],
   "source": [
    "%matplotlib inline\n",
    "import matplotlib.pyplot as plt\n",
    "plt.spy(stoich_matrix, precision=0.01, markersize=.9)"
   ]
  },
  {
   "cell_type": "markdown",
   "metadata": {},
   "source": [
    "### Analizando soluciones de FBA"
   ]
  },
  {
   "cell_type": "markdown",
   "metadata": {},
   "source": [
    "Los modelos resueltos con FBA pueden ser analizados más a fondo mediante los métodos de resumen.\n",
    "\n",
    "El resumen del modelo (una vez resuleto con FBA) usando la función model.summary() desplegará información del comportamiento del modelo a la entrada y a la salida (flujos de entrada y salida) así como el objetivo optimizado:"
   ]
  },
  {
   "cell_type": "code",
   "execution_count": 21,
   "metadata": {},
   "outputs": [
    {
     "data": {
      "text/html": [
       "<div>\n",
       "<style scoped>\n",
       "    .dataframe tbody tr th:only-of-type {\n",
       "        vertical-align: middle;\n",
       "    }\n",
       "\n",
       "    .dataframe tbody tr th {\n",
       "        vertical-align: top;\n",
       "    }\n",
       "\n",
       "    .dataframe thead tr th {\n",
       "        text-align: left;\n",
       "    }\n",
       "</style>\n",
       "<table border=\"1\" class=\"dataframe\">\n",
       "  <thead>\n",
       "    <tr>\n",
       "      <th></th>\n",
       "      <th colspan=\"2\" halign=\"left\">IN_FLUXES</th>\n",
       "      <th colspan=\"2\" halign=\"left\">OUT_FLUXES</th>\n",
       "      <th colspan=\"2\" halign=\"left\">OBJECTIVES</th>\n",
       "    </tr>\n",
       "    <tr>\n",
       "      <th></th>\n",
       "      <th>ID</th>\n",
       "      <th>FLUX</th>\n",
       "      <th>ID</th>\n",
       "      <th>FLUX</th>\n",
       "      <th>ID</th>\n",
       "      <th>FLUX</th>\n",
       "    </tr>\n",
       "  </thead>\n",
       "  <tbody>\n",
       "    <tr>\n",
       "      <th>0</th>\n",
       "      <td>o2_e</td>\n",
       "      <td>21.799493</td>\n",
       "      <td>h2o_e</td>\n",
       "      <td>29.175827</td>\n",
       "      <td>Biomass_Ecoli_core</td>\n",
       "      <td>0.873922</td>\n",
       "    </tr>\n",
       "    <tr>\n",
       "      <th>1</th>\n",
       "      <td>glc__D_e</td>\n",
       "      <td>10.000000</td>\n",
       "      <td>co2_e</td>\n",
       "      <td>22.809833</td>\n",
       "      <td>NaN</td>\n",
       "      <td>NaN</td>\n",
       "    </tr>\n",
       "    <tr>\n",
       "      <th>2</th>\n",
       "      <td>nh4_e</td>\n",
       "      <td>4.765319</td>\n",
       "      <td>h_e</td>\n",
       "      <td>17.530865</td>\n",
       "      <td>NaN</td>\n",
       "      <td>NaN</td>\n",
       "    </tr>\n",
       "    <tr>\n",
       "      <th>3</th>\n",
       "      <td>pi_e</td>\n",
       "      <td>3.214895</td>\n",
       "      <td>NaN</td>\n",
       "      <td>NaN</td>\n",
       "      <td>NaN</td>\n",
       "      <td>NaN</td>\n",
       "    </tr>\n",
       "  </tbody>\n",
       "</table>\n",
       "</div>"
      ],
      "text/plain": [
       "<cobra.core.summary.model_summary.ModelSummary at 0x153dfe98>"
      ]
     },
     "execution_count": 21,
     "metadata": {},
     "output_type": "execute_result"
    }
   ],
   "source": [
    "model.summary()"
   ]
  },
  {
   "cell_type": "markdown",
   "metadata": {},
   "source": [
    "Tambien podemos obtener información resumida de un metabolito dado usando el comando model.metabolites.-nombre_del_metabolito-.summary(). Esto es muy útil para, por ejemplo, conocer el balance REDOX de un modelo inspeccionando el cofactor NADH:"
   ]
  },
  {
   "cell_type": "code",
   "execution_count": 22,
   "metadata": {},
   "outputs": [
    {
     "data": {
      "text/html": [
       "<div>\n",
       "<style scoped>\n",
       "    .dataframe tbody tr th:only-of-type {\n",
       "        vertical-align: middle;\n",
       "    }\n",
       "\n",
       "    .dataframe tbody tr th {\n",
       "        vertical-align: top;\n",
       "    }\n",
       "\n",
       "    .dataframe thead th {\n",
       "        text-align: right;\n",
       "    }\n",
       "</style>\n",
       "<table border=\"1\" class=\"dataframe\">\n",
       "  <thead>\n",
       "    <tr style=\"text-align: right;\">\n",
       "      <th></th>\n",
       "      <th></th>\n",
       "      <th>PERCENT</th>\n",
       "      <th>FLUX</th>\n",
       "      <th>REACTION_STRING</th>\n",
       "    </tr>\n",
       "    <tr>\n",
       "      <th>RXN_STAT</th>\n",
       "      <th>ID</th>\n",
       "      <th></th>\n",
       "      <th></th>\n",
       "      <th></th>\n",
       "    </tr>\n",
       "  </thead>\n",
       "  <tbody>\n",
       "    <tr>\n",
       "      <th rowspan=\"5\" valign=\"top\">PRODUCING</th>\n",
       "      <th>GAPD</th>\n",
       "      <td>41.582168</td>\n",
       "      <td>16.023526</td>\n",
       "      <td>g3p_c + nad_c + pi_c &lt;=&gt; 13dpg_c + h_c + nadh_c</td>\n",
       "    </tr>\n",
       "    <tr>\n",
       "      <th>PDH</th>\n",
       "      <td>24.088820</td>\n",
       "      <td>9.282533</td>\n",
       "      <td>coa_c + nad_c + pyr_c --&gt; accoa_c + co2_c + na...</td>\n",
       "    </tr>\n",
       "    <tr>\n",
       "      <th>AKGDH</th>\n",
       "      <td>13.142408</td>\n",
       "      <td>5.064376</td>\n",
       "      <td>akg_c + coa_c + nad_c --&gt; co2_c + nadh_c + suc...</td>\n",
       "    </tr>\n",
       "    <tr>\n",
       "      <th>MDH</th>\n",
       "      <td>13.142408</td>\n",
       "      <td>5.064376</td>\n",
       "      <td>mal__L_c + nad_c &lt;=&gt; h_c + nadh_c + oaa_c</td>\n",
       "    </tr>\n",
       "    <tr>\n",
       "      <th>Biomass_Ecoli_core</th>\n",
       "      <td>8.044196</td>\n",
       "      <td>3.099800</td>\n",
       "      <td>1.496 3pg_c + 3.7478 accoa_c + 59.81 atp_c + 0...</td>\n",
       "    </tr>\n",
       "    <tr>\n",
       "      <th>CONSUMING</th>\n",
       "      <th>NADH16</th>\n",
       "      <td>100.000000</td>\n",
       "      <td>38.534610</td>\n",
       "      <td>4.0 h_c + nadh_c + q8_c --&gt; 3.0 h_e + nad_c + ...</td>\n",
       "    </tr>\n",
       "  </tbody>\n",
       "</table>\n",
       "</div>"
      ],
      "text/plain": [
       "<cobra.core.summary.metabolite_summary.MetaboliteSummary at 0x153dfa18>"
      ]
     },
     "execution_count": 22,
     "metadata": {},
     "output_type": "execute_result"
    }
   ],
   "source": [
    "model.metabolites.nadh_c.summary()"
   ]
  },
  {
   "cell_type": "markdown",
   "metadata": {},
   "source": [
    "O para tener un vistazo de las reacciones principales que consumen y producen energía inspeccionando al ATP:"
   ]
  },
  {
   "cell_type": "code",
   "execution_count": 24,
   "metadata": {},
   "outputs": [
    {
     "data": {
      "text/html": [
       "<div>\n",
       "<style scoped>\n",
       "    .dataframe tbody tr th:only-of-type {\n",
       "        vertical-align: middle;\n",
       "    }\n",
       "\n",
       "    .dataframe tbody tr th {\n",
       "        vertical-align: top;\n",
       "    }\n",
       "\n",
       "    .dataframe thead th {\n",
       "        text-align: right;\n",
       "    }\n",
       "</style>\n",
       "<table border=\"1\" class=\"dataframe\">\n",
       "  <thead>\n",
       "    <tr style=\"text-align: right;\">\n",
       "      <th></th>\n",
       "      <th></th>\n",
       "      <th>PERCENT</th>\n",
       "      <th>FLUX</th>\n",
       "      <th>REACTION_STRING</th>\n",
       "    </tr>\n",
       "    <tr>\n",
       "      <th>RXN_STAT</th>\n",
       "      <th>ID</th>\n",
       "      <th></th>\n",
       "      <th></th>\n",
       "      <th></th>\n",
       "    </tr>\n",
       "  </thead>\n",
       "  <tbody>\n",
       "    <tr>\n",
       "      <th rowspan=\"4\" valign=\"top\">PRODUCING</th>\n",
       "      <th>ATPS4r</th>\n",
       "      <td>66.579799</td>\n",
       "      <td>45.514010</td>\n",
       "      <td>adp_c + 4.0 h_e + pi_c &lt;=&gt; atp_c + h2o_c + 3.0...</td>\n",
       "    </tr>\n",
       "    <tr>\n",
       "      <th>PGK</th>\n",
       "      <td>23.439885</td>\n",
       "      <td>16.023526</td>\n",
       "      <td>3pg_c + atp_c &lt;=&gt; 13dpg_c + adp_c</td>\n",
       "    </tr>\n",
       "    <tr>\n",
       "      <th>SUCOAS</th>\n",
       "      <td>7.408381</td>\n",
       "      <td>5.064376</td>\n",
       "      <td>atp_c + coa_c + succ_c &lt;=&gt; adp_c + pi_c + succ...</td>\n",
       "    </tr>\n",
       "    <tr>\n",
       "      <th>PYK</th>\n",
       "      <td>2.571936</td>\n",
       "      <td>1.758177</td>\n",
       "      <td>adp_c + h_c + pep_c --&gt; atp_c + pyr_c</td>\n",
       "    </tr>\n",
       "    <tr>\n",
       "      <th rowspan=\"3\" valign=\"top\">CONSUMING</th>\n",
       "      <th>Biomass_Ecoli_core</th>\n",
       "      <td>76.461640</td>\n",
       "      <td>52.269245</td>\n",
       "      <td>1.496 3pg_c + 3.7478 accoa_c + 59.81 atp_c + 0...</td>\n",
       "    </tr>\n",
       "    <tr>\n",
       "      <th>ATPM</th>\n",
       "      <td>12.273243</td>\n",
       "      <td>8.390000</td>\n",
       "      <td>atp_c + h2o_c --&gt; adp_c + h_c + pi_c</td>\n",
       "    </tr>\n",
       "    <tr>\n",
       "      <th>PFK</th>\n",
       "      <td>10.938227</td>\n",
       "      <td>7.477382</td>\n",
       "      <td>atp_c + f6p_c --&gt; adp_c + fdp_c + h_c</td>\n",
       "    </tr>\n",
       "  </tbody>\n",
       "</table>\n",
       "</div>"
      ],
      "text/plain": [
       "<cobra.core.summary.metabolite_summary.MetaboliteSummary at 0x153f1880>"
      ]
     },
     "execution_count": 24,
     "metadata": {},
     "output_type": "execute_result"
    }
   ],
   "source": [
    "model.metabolites.atp_c.summary()"
   ]
  },
  {
   "cell_type": "markdown",
   "metadata": {},
   "source": [
    "Para desplegar la distribución de flujos de todas las reacciones (Vi) podemos ayudarnos del comando solution.fluxes:"
   ]
  },
  {
   "cell_type": "code",
   "execution_count": 25,
   "metadata": {},
   "outputs": [
    {
     "name": "stdout",
     "output_type": "stream",
     "text": [
      "ACALD     0.000000\n",
      "ACALDt    0.000000\n",
      "ACKr      0.000000\n",
      "ACONTa    6.007250\n",
      "ACONTb    6.007250\n",
      "            ...   \n",
      "TALA      1.496984\n",
      "THD2      0.000000\n",
      "TKT1      1.496984\n",
      "TKT2      1.181498\n",
      "TPI       7.477382\n",
      "Name: fluxes, Length: 95, dtype: float64\n"
     ]
    }
   ],
   "source": [
    "print(solution.fluxes)"
   ]
  },
  {
   "cell_type": "markdown",
   "metadata": {},
   "source": [
    "### Simulaciones de Análisis de Balances de Flujo Parsimonioso (pFBA)"
   ]
  },
  {
   "cell_type": "markdown",
   "metadata": {},
   "source": [
    "El Análisis de Balance de Flujo Parsimonioso es una variante del FBA regular que tiene más restricciones añadidas al problema de optmización, específicamente en esta versión se minimiza la suma total de los valores de flujo absoluto. Dado que esto por sí solo conduciría a la solución trivial de todos los flujos iguales a cero, otra restricción que tiene el problema es que el valor del objetivo original debe ser una fracción de su solución en FBA. Para información más detallada, por favor revise Lewis et al. (2010):\n"
   ]
  },
  {
   "cell_type": "code",
   "execution_count": 1,
   "metadata": {},
   "outputs": [],
   "source": [
    "from __future__ import print_function\n",
    "import cobra\n",
    "import cobra.test\n",
    "from cobra.flux_analysis import pfba\n",
    "\n",
    "model = cobra.test.create_test_model(\"textbook\")\n",
    "\n",
    "fba_solution = model.optimize()\n",
    "pfba_solution = pfba(model, fraction_of_optimum=0.95)\n"
   ]
  },
  {
   "cell_type": "markdown",
   "metadata": {},
   "source": [
    "Una vez guardado las soluciones dentro de sus respectivas variables, podemos pedir que se muestre el valor solución y la suma de los flujos para cada resultado:"
   ]
  },
  {
   "cell_type": "code",
   "execution_count": 2,
   "metadata": {},
   "outputs": [
    {
     "name": "stdout",
     "output_type": "stream",
     "text": [
      "0.8739215069684307\n",
      "518.4220855176072\n"
     ]
    }
   ],
   "source": [
    "print(fba_solution.fluxes.Biomass_Ecoli_core)\n",
    "print(fba_solution.fluxes.abs().sum())"
   ]
  },
  {
   "cell_type": "code",
   "execution_count": 3,
   "metadata": {},
   "outputs": [
    {
     "name": "stdout",
     "output_type": "stream",
     "text": [
      "0.8302254316200092\n",
      "493.4400256861709\n"
     ]
    }
   ],
   "source": [
    "print(pfba_solution.fluxes.Biomass_Ecoli_core)\n",
    "print(pfba_solution.fluxes.abs().sum())"
   ]
  },
  {
   "cell_type": "markdown",
   "metadata": {},
   "source": [
    "### Simulaciones de Análisis de Variabilidad de Flujo (FVA)"
   ]
  },
  {
   "cell_type": "markdown",
   "metadata": {},
   "source": [
    "Este tipo de análisis calcula y muestra todos los flujos máximos y mínimos posibles para todas las reacciones en el valor óptimo de la reacción objetivo:"
   ]
  },
  {
   "cell_type": "code",
   "execution_count": 10,
   "metadata": {},
   "outputs": [],
   "source": [
    "from __future__ import print_function\n",
    "import cobra\n",
    "import cobra.test\n",
    "import escher \n",
    "from escher import Builder\n",
    "from cobra.flux_analysis import flux_variability_analysis\n",
    "\n",
    "model = cobra.test.create_test_model(\"textbook\")\n",
    "\n",
    "result = flux_variability_analysis(model)"
   ]
  },
  {
   "cell_type": "markdown",
   "metadata": {},
   "source": [
    "para inspeccionar  el resultado:"
   ]
  },
  {
   "cell_type": "code",
   "execution_count": 11,
   "metadata": {},
   "outputs": [
    {
     "data": {
      "text/html": [
       "<div>\n",
       "<style scoped>\n",
       "    .dataframe tbody tr th:only-of-type {\n",
       "        vertical-align: middle;\n",
       "    }\n",
       "\n",
       "    .dataframe tbody tr th {\n",
       "        vertical-align: top;\n",
       "    }\n",
       "\n",
       "    .dataframe thead th {\n",
       "        text-align: right;\n",
       "    }\n",
       "</style>\n",
       "<table border=\"1\" class=\"dataframe\">\n",
       "  <thead>\n",
       "    <tr style=\"text-align: right;\">\n",
       "      <th></th>\n",
       "      <th>minimum</th>\n",
       "      <th>maximum</th>\n",
       "    </tr>\n",
       "  </thead>\n",
       "  <tbody>\n",
       "    <tr>\n",
       "      <th>ACALD</th>\n",
       "      <td>8.656583e-14</td>\n",
       "      <td>0.000000e+00</td>\n",
       "    </tr>\n",
       "    <tr>\n",
       "      <th>ACALDt</th>\n",
       "      <td>8.656583e-14</td>\n",
       "      <td>0.000000e+00</td>\n",
       "    </tr>\n",
       "    <tr>\n",
       "      <th>ACKr</th>\n",
       "      <td>1.617709e-13</td>\n",
       "      <td>3.192215e-14</td>\n",
       "    </tr>\n",
       "    <tr>\n",
       "      <th>ACONTa</th>\n",
       "      <td>6.007250e+00</td>\n",
       "      <td>6.007250e+00</td>\n",
       "    </tr>\n",
       "    <tr>\n",
       "      <th>ACONTb</th>\n",
       "      <td>6.007250e+00</td>\n",
       "      <td>6.007250e+00</td>\n",
       "    </tr>\n",
       "    <tr>\n",
       "      <th>...</th>\n",
       "      <td>...</td>\n",
       "      <td>...</td>\n",
       "    </tr>\n",
       "    <tr>\n",
       "      <th>TALA</th>\n",
       "      <td>1.496984e+00</td>\n",
       "      <td>1.496984e+00</td>\n",
       "    </tr>\n",
       "    <tr>\n",
       "      <th>THD2</th>\n",
       "      <td>0.000000e+00</td>\n",
       "      <td>-1.845898e-12</td>\n",
       "    </tr>\n",
       "    <tr>\n",
       "      <th>TKT1</th>\n",
       "      <td>1.496984e+00</td>\n",
       "      <td>1.496984e+00</td>\n",
       "    </tr>\n",
       "    <tr>\n",
       "      <th>TKT2</th>\n",
       "      <td>1.181498e+00</td>\n",
       "      <td>1.181498e+00</td>\n",
       "    </tr>\n",
       "    <tr>\n",
       "      <th>TPI</th>\n",
       "      <td>7.477382e+00</td>\n",
       "      <td>7.477382e+00</td>\n",
       "    </tr>\n",
       "  </tbody>\n",
       "</table>\n",
       "<p>95 rows × 2 columns</p>\n",
       "</div>"
      ],
      "text/plain": [
       "             minimum       maximum\n",
       "ACALD   8.656583e-14  0.000000e+00\n",
       "ACALDt  8.656583e-14  0.000000e+00\n",
       "ACKr    1.617709e-13  3.192215e-14\n",
       "ACONTa  6.007250e+00  6.007250e+00\n",
       "ACONTb  6.007250e+00  6.007250e+00\n",
       "...              ...           ...\n",
       "TALA    1.496984e+00  1.496984e+00\n",
       "THD2    0.000000e+00 -1.845898e-12\n",
       "TKT1    1.496984e+00  1.496984e+00\n",
       "TKT2    1.181498e+00  1.181498e+00\n",
       "TPI     7.477382e+00  7.477382e+00\n",
       "\n",
       "[95 rows x 2 columns]"
      ]
     },
     "execution_count": 11,
     "metadata": {},
     "output_type": "execute_result"
    }
   ],
   "source": [
    "result"
   ]
  },
  {
   "cell_type": "markdown",
   "metadata": {},
   "source": [
    "Para obtener una vista de la estadística principal de los rangos de flujos resultantes:"
   ]
  },
  {
   "cell_type": "code",
   "execution_count": 12,
   "metadata": {},
   "outputs": [
    {
     "data": {
      "text/html": [
       "<div>\n",
       "<style scoped>\n",
       "    .dataframe tbody tr th:only-of-type {\n",
       "        vertical-align: middle;\n",
       "    }\n",
       "\n",
       "    .dataframe tbody tr th {\n",
       "        vertical-align: top;\n",
       "    }\n",
       "\n",
       "    .dataframe thead th {\n",
       "        text-align: right;\n",
       "    }\n",
       "</style>\n",
       "<table border=\"1\" class=\"dataframe\">\n",
       "  <thead>\n",
       "    <tr style=\"text-align: right;\">\n",
       "      <th></th>\n",
       "      <th>minimum</th>\n",
       "      <th>maximum</th>\n",
       "    </tr>\n",
       "  </thead>\n",
       "  <tbody>\n",
       "    <tr>\n",
       "      <th>count</th>\n",
       "      <td>9.500000e+01</td>\n",
       "      <td>9.500000e+01</td>\n",
       "    </tr>\n",
       "    <tr>\n",
       "      <th>mean</th>\n",
       "      <td>2.627753e+00</td>\n",
       "      <td>2.357377e+01</td>\n",
       "    </tr>\n",
       "    <tr>\n",
       "      <th>std</th>\n",
       "      <td>1.069810e+01</td>\n",
       "      <td>1.439744e+02</td>\n",
       "    </tr>\n",
       "    <tr>\n",
       "      <th>min</th>\n",
       "      <td>-2.917583e+01</td>\n",
       "      <td>-2.917583e+01</td>\n",
       "    </tr>\n",
       "    <tr>\n",
       "      <th>25%</th>\n",
       "      <td>0.000000e+00</td>\n",
       "      <td>-5.843193e-13</td>\n",
       "    </tr>\n",
       "    <tr>\n",
       "      <th>50%</th>\n",
       "      <td>6.150730e-14</td>\n",
       "      <td>0.000000e+00</td>\n",
       "    </tr>\n",
       "    <tr>\n",
       "      <th>75%</th>\n",
       "      <td>4.959985e+00</td>\n",
       "      <td>5.012180e+00</td>\n",
       "    </tr>\n",
       "    <tr>\n",
       "      <th>max</th>\n",
       "      <td>4.551401e+01</td>\n",
       "      <td>1.000000e+03</td>\n",
       "    </tr>\n",
       "  </tbody>\n",
       "</table>\n",
       "</div>"
      ],
      "text/plain": [
       "            minimum       maximum\n",
       "count  9.500000e+01  9.500000e+01\n",
       "mean   2.627753e+00  2.357377e+01\n",
       "std    1.069810e+01  1.439744e+02\n",
       "min   -2.917583e+01 -2.917583e+01\n",
       "25%    0.000000e+00 -5.843193e-13\n",
       "50%    6.150730e-14  0.000000e+00\n",
       "75%    4.959985e+00  5.012180e+00\n",
       "max    4.551401e+01  1.000000e+03"
      ]
     },
     "execution_count": 12,
     "metadata": {},
     "output_type": "execute_result"
    }
   ],
   "source": [
    "result.describe()"
   ]
  },
  {
   "cell_type": "markdown",
   "metadata": {},
   "source": [
    "Podemos usar la libreria Escher (ver apartado específico) para visualizar los rangos de flujos en un mapa de vías del metabolismo del carbono central de E. coli:"
   ]
  },
  {
   "cell_type": "code",
   "execution_count": 16,
   "metadata": {},
   "outputs": [
    {
     "name": "stdout",
     "output_type": "stream",
     "text": [
      "Downloading Map from https://escher.github.io/1-0-0/6/maps/Escherichia%20coli/e_coli_core.Core%20metabolism.json\n",
      "Downloading Model from https://escher.github.io/1-0-0/6/models/Escherichia%20coli/e_coli_core.json\n"
     ]
    }
   ],
   "source": [
    "abs_flux_ranges = abs(result.maximum - result.minimum).to_dict()\n",
    "builder = Builder(\n",
    "    map_name='e_coli_core.Core metabolism',\n",
    "    model_name='e_coli_core',\n",
    "    reaction_data=abs_flux_ranges)"
   ]
  },
  {
   "cell_type": "code",
   "execution_count": 17,
   "metadata": {},
   "outputs": [
    {
     "data": {
      "application/vnd.jupyter.widget-view+json": {
       "model_id": "ee54e57a2ee34517a28afc10d5140221",
       "version_major": 2,
       "version_minor": 0
      },
      "text/plain": [
       "Builder(reaction_data={'ACALD': 8.656582653259075e-14, 'ACALDt': 8.656582653259074e-14, 'ACKr': 1.298487397988…"
      ]
     },
     "metadata": {},
     "output_type": "display_data"
    }
   ],
   "source": [
    "builder"
   ]
  },
  {
   "cell_type": "markdown",
   "metadata": {},
   "source": [
    "El FVA regular puede contener ciclos (loops, por ejemplo, con valores altos de flujos que solo pueden ser asi de altos si se les permite, algo que no puede pasar in vivo) Las reacciones resultadas en rojo son ciclos inútiles, los cuales se pueden evadir con el argumento loopless. Podemos ver que las reacciones que participan en loops son FRD7 y SUCDi:"
   ]
  },
  {
   "cell_type": "code",
   "execution_count": 18,
   "metadata": {},
   "outputs": [
    {
     "data": {
      "text/html": [
       "<div>\n",
       "<style scoped>\n",
       "    .dataframe tbody tr th:only-of-type {\n",
       "        vertical-align: middle;\n",
       "    }\n",
       "\n",
       "    .dataframe tbody tr th {\n",
       "        vertical-align: top;\n",
       "    }\n",
       "\n",
       "    .dataframe thead th {\n",
       "        text-align: right;\n",
       "    }\n",
       "</style>\n",
       "<table border=\"1\" class=\"dataframe\">\n",
       "  <thead>\n",
       "    <tr style=\"text-align: right;\">\n",
       "      <th></th>\n",
       "      <th>minimum</th>\n",
       "      <th>maximum</th>\n",
       "    </tr>\n",
       "  </thead>\n",
       "  <tbody>\n",
       "    <tr>\n",
       "      <th>FRD7</th>\n",
       "      <td>0.000000</td>\n",
       "      <td>994.935624</td>\n",
       "    </tr>\n",
       "    <tr>\n",
       "      <th>SUCDi</th>\n",
       "      <td>5.064376</td>\n",
       "      <td>1000.000000</td>\n",
       "    </tr>\n",
       "  </tbody>\n",
       "</table>\n",
       "</div>"
      ],
      "text/plain": [
       "        minimum      maximum\n",
       "FRD7   0.000000   994.935624\n",
       "SUCDi  5.064376  1000.000000"
      ]
     },
     "execution_count": 18,
     "metadata": {},
     "output_type": "execute_result"
    }
   ],
   "source": [
    "result[result.maximum > 500]"
   ]
  },
  {
   "cell_type": "code",
   "execution_count": 20,
   "metadata": {},
   "outputs": [
    {
     "data": {
      "text/html": [
       "<div>\n",
       "<style scoped>\n",
       "    .dataframe tbody tr th:only-of-type {\n",
       "        vertical-align: middle;\n",
       "    }\n",
       "\n",
       "    .dataframe tbody tr th {\n",
       "        vertical-align: top;\n",
       "    }\n",
       "\n",
       "    .dataframe thead th {\n",
       "        text-align: right;\n",
       "    }\n",
       "</style>\n",
       "<table border=\"1\" class=\"dataframe\">\n",
       "  <thead>\n",
       "    <tr style=\"text-align: right;\">\n",
       "      <th></th>\n",
       "      <th>minimum</th>\n",
       "      <th>maximum</th>\n",
       "    </tr>\n",
       "  </thead>\n",
       "  <tbody>\n",
       "    <tr>\n",
       "      <th>FRD7</th>\n",
       "      <td>0.000000</td>\n",
       "      <td>994.935624</td>\n",
       "    </tr>\n",
       "    <tr>\n",
       "      <th>SUCDi</th>\n",
       "      <td>5.064376</td>\n",
       "      <td>1000.000000</td>\n",
       "    </tr>\n",
       "  </tbody>\n",
       "</table>\n",
       "</div>"
      ],
      "text/plain": [
       "        minimum      maximum\n",
       "FRD7   0.000000   994.935624\n",
       "SUCDi  5.064376  1000.000000"
      ]
     },
     "execution_count": 20,
     "metadata": {},
     "output_type": "execute_result"
    }
   ],
   "source": [
    "loop_reactions = [model.reactions.FRD7, model.reactions.SUCDi]\n",
    "flux_variability_analysis(model, reaction_list=loop_reactions, loopless=False)"
   ]
  },
  {
   "cell_type": "code",
   "execution_count": 21,
   "metadata": {},
   "outputs": [
    {
     "data": {
      "text/html": [
       "<div>\n",
       "<style scoped>\n",
       "    .dataframe tbody tr th:only-of-type {\n",
       "        vertical-align: middle;\n",
       "    }\n",
       "\n",
       "    .dataframe tbody tr th {\n",
       "        vertical-align: top;\n",
       "    }\n",
       "\n",
       "    .dataframe thead th {\n",
       "        text-align: right;\n",
       "    }\n",
       "</style>\n",
       "<table border=\"1\" class=\"dataframe\">\n",
       "  <thead>\n",
       "    <tr style=\"text-align: right;\">\n",
       "      <th></th>\n",
       "      <th>minimum</th>\n",
       "      <th>maximum</th>\n",
       "    </tr>\n",
       "  </thead>\n",
       "  <tbody>\n",
       "    <tr>\n",
       "      <th>FRD7</th>\n",
       "      <td>0.000000</td>\n",
       "      <td>0.000000</td>\n",
       "    </tr>\n",
       "    <tr>\n",
       "      <th>SUCDi</th>\n",
       "      <td>5.064376</td>\n",
       "      <td>5.064376</td>\n",
       "    </tr>\n",
       "  </tbody>\n",
       "</table>\n",
       "</div>"
      ],
      "text/plain": [
       "        minimum   maximum\n",
       "FRD7   0.000000  0.000000\n",
       "SUCDi  5.064376  5.064376"
      ]
     },
     "execution_count": 21,
     "metadata": {},
     "output_type": "execute_result"
    }
   ],
   "source": [
    "flux_variability_analysis(model, reaction_list=loop_reactions, loopless=True)"
   ]
  },
  {
   "cell_type": "markdown",
   "metadata": {},
   "source": [
    "Podemos agregar restricciones adicionales al FVA para hacerlo un poco mas realista, utilizando los parámetros de fraction_of_optimum el cual establece la tasa de crecimiento para que no vaya por debajo de una proporción dada (como por ejemplo, 0.9 implica el 90% del valor óptimo de la reacción objetivo, o 1.1 el 10% por encima de éste valor)."
   ]
  },
  {
   "cell_type": "code",
   "execution_count": 22,
   "metadata": {},
   "outputs": [
    {
     "data": {
      "text/html": [
       "<div>\n",
       "<style scoped>\n",
       "    .dataframe tbody tr th:only-of-type {\n",
       "        vertical-align: middle;\n",
       "    }\n",
       "\n",
       "    .dataframe tbody tr th {\n",
       "        vertical-align: top;\n",
       "    }\n",
       "\n",
       "    .dataframe thead th {\n",
       "        text-align: right;\n",
       "    }\n",
       "</style>\n",
       "<table border=\"1\" class=\"dataframe\">\n",
       "  <thead>\n",
       "    <tr style=\"text-align: right;\">\n",
       "      <th></th>\n",
       "      <th>minimum</th>\n",
       "      <th>maximum</th>\n",
       "    </tr>\n",
       "  </thead>\n",
       "  <tbody>\n",
       "    <tr>\n",
       "      <th>ACALD</th>\n",
       "      <td>-2.542370</td>\n",
       "      <td>0.000000e+00</td>\n",
       "    </tr>\n",
       "    <tr>\n",
       "      <th>ACALDt</th>\n",
       "      <td>-2.542370</td>\n",
       "      <td>0.000000e+00</td>\n",
       "    </tr>\n",
       "    <tr>\n",
       "      <th>ACKr</th>\n",
       "      <td>-3.813556</td>\n",
       "      <td>4.118987e-15</td>\n",
       "    </tr>\n",
       "    <tr>\n",
       "      <th>ACONTa</th>\n",
       "      <td>0.848587</td>\n",
       "      <td>8.753810e+00</td>\n",
       "    </tr>\n",
       "    <tr>\n",
       "      <th>ACONTb</th>\n",
       "      <td>2.221636</td>\n",
       "      <td>8.753810e+00</td>\n",
       "    </tr>\n",
       "    <tr>\n",
       "      <th>...</th>\n",
       "      <td>...</td>\n",
       "      <td>...</td>\n",
       "    </tr>\n",
       "    <tr>\n",
       "      <th>TALA</th>\n",
       "      <td>0.000000</td>\n",
       "      <td>7.905223e+00</td>\n",
       "    </tr>\n",
       "    <tr>\n",
       "      <th>THD2</th>\n",
       "      <td>0.000000</td>\n",
       "      <td>1.265920e+01</td>\n",
       "    </tr>\n",
       "    <tr>\n",
       "      <th>TKT1</th>\n",
       "      <td>0.000000</td>\n",
       "      <td>3.138877e+00</td>\n",
       "    </tr>\n",
       "    <tr>\n",
       "      <th>TKT2</th>\n",
       "      <td>-0.312178</td>\n",
       "      <td>7.621286e+00</td>\n",
       "    </tr>\n",
       "    <tr>\n",
       "      <th>TPI</th>\n",
       "      <td>5.375261</td>\n",
       "      <td>9.076929e+00</td>\n",
       "    </tr>\n",
       "  </tbody>\n",
       "</table>\n",
       "<p>95 rows × 2 columns</p>\n",
       "</div>"
      ],
      "text/plain": [
       "         minimum       maximum\n",
       "ACALD  -2.542370  0.000000e+00\n",
       "ACALDt -2.542370  0.000000e+00\n",
       "ACKr   -3.813556  4.118987e-15\n",
       "ACONTa  0.848587  8.753810e+00\n",
       "ACONTb  2.221636  8.753810e+00\n",
       "...          ...           ...\n",
       "TALA    0.000000  7.905223e+00\n",
       "THD2    0.000000  1.265920e+01\n",
       "TKT1    0.000000  3.138877e+00\n",
       "TKT2   -0.312178  7.621286e+00\n",
       "TPI     5.375261  9.076929e+00\n",
       "\n",
       "[95 rows x 2 columns]"
      ]
     },
     "execution_count": 22,
     "metadata": {},
     "output_type": "execute_result"
    }
   ],
   "source": [
    "flux_variability_analysis(model, fraction_of_optimum=0.9, loopless=True)"
   ]
  },
  {
   "cell_type": "code",
   "execution_count": 23,
   "metadata": {},
   "outputs": [
    {
     "data": {
      "text/html": [
       "<div>\n",
       "<style scoped>\n",
       "    .dataframe tbody tr th:only-of-type {\n",
       "        vertical-align: middle;\n",
       "    }\n",
       "\n",
       "    .dataframe tbody tr th {\n",
       "        vertical-align: top;\n",
       "    }\n",
       "\n",
       "    .dataframe thead th {\n",
       "        text-align: right;\n",
       "    }\n",
       "</style>\n",
       "<table border=\"1\" class=\"dataframe\">\n",
       "  <thead>\n",
       "    <tr style=\"text-align: right;\">\n",
       "      <th></th>\n",
       "      <th>minimum</th>\n",
       "      <th>maximum</th>\n",
       "    </tr>\n",
       "  </thead>\n",
       "  <tbody>\n",
       "    <tr>\n",
       "      <th>ACALD</th>\n",
       "      <td>-2.542370</td>\n",
       "      <td>0.000000e+00</td>\n",
       "    </tr>\n",
       "    <tr>\n",
       "      <th>ACALDt</th>\n",
       "      <td>-2.542370</td>\n",
       "      <td>0.000000e+00</td>\n",
       "    </tr>\n",
       "    <tr>\n",
       "      <th>ACKr</th>\n",
       "      <td>-3.813556</td>\n",
       "      <td>-9.996851e-14</td>\n",
       "    </tr>\n",
       "    <tr>\n",
       "      <th>ACONTa</th>\n",
       "      <td>2.221636</td>\n",
       "      <td>8.261964e+00</td>\n",
       "    </tr>\n",
       "    <tr>\n",
       "      <th>ACONTb</th>\n",
       "      <td>2.221636</td>\n",
       "      <td>8.250657e+00</td>\n",
       "    </tr>\n",
       "    <tr>\n",
       "      <th>...</th>\n",
       "      <td>...</td>\n",
       "      <td>...</td>\n",
       "    </tr>\n",
       "    <tr>\n",
       "      <th>TALA</th>\n",
       "      <td>0.000000</td>\n",
       "      <td>3.138877e+00</td>\n",
       "    </tr>\n",
       "    <tr>\n",
       "      <th>THD2</th>\n",
       "      <td>0.000000</td>\n",
       "      <td>6.878332e+00</td>\n",
       "    </tr>\n",
       "    <tr>\n",
       "      <th>TKT1</th>\n",
       "      <td>-0.147088</td>\n",
       "      <td>3.138877e+00</td>\n",
       "    </tr>\n",
       "    <tr>\n",
       "      <th>TKT2</th>\n",
       "      <td>-0.443896</td>\n",
       "      <td>2.854940e+00</td>\n",
       "    </tr>\n",
       "    <tr>\n",
       "      <th>TPI</th>\n",
       "      <td>5.375261</td>\n",
       "      <td>9.076929e+00</td>\n",
       "    </tr>\n",
       "  </tbody>\n",
       "</table>\n",
       "<p>95 rows × 2 columns</p>\n",
       "</div>"
      ],
      "text/plain": [
       "         minimum       maximum\n",
       "ACALD  -2.542370  0.000000e+00\n",
       "ACALDt -2.542370  0.000000e+00\n",
       "ACKr   -3.813556 -9.996851e-14\n",
       "ACONTa  2.221636  8.261964e+00\n",
       "ACONTb  2.221636  8.250657e+00\n",
       "...          ...           ...\n",
       "TALA    0.000000  3.138877e+00\n",
       "THD2    0.000000  6.878332e+00\n",
       "TKT1   -0.147088  3.138877e+00\n",
       "TKT2   -0.443896  2.854940e+00\n",
       "TPI     5.375261  9.076929e+00\n",
       "\n",
       "[95 rows x 2 columns]"
      ]
     },
     "execution_count": 23,
     "metadata": {},
     "output_type": "execute_result"
    }
   ],
   "source": [
    "flux_variability_analysis(model, fraction_of_optimum=0.9, pfba_factor=1.1, loopless=True)"
   ]
  },
  {
   "cell_type": "markdown",
   "metadata": {},
   "source": [
    "### Simulaciones con Deleciones"
   ]
  },
  {
   "cell_type": "markdown",
   "metadata": {},
   "source": [
    "### Production envelopes (Análisis de Fenotipos de fase plana)"
   ]
  },
  {
   "cell_type": "markdown",
   "metadata": {},
   "source": [
    "El análisis de fenotipos de fase plana nos muestran las distintas fases del crecimiento óptimo con usos diferentes de dos sustratos. En otras palabras, éste análisis es útil para ilustrar cómo varían los flujos máximo y mínimo para una reacción determinada cuando se fija el flujo de otra reacción a un valor dado. Por ejemplo \"¿Cuánto producto puedo obtener con diferentes tasas de crecimiento?\".\n",
    "\n",
    "COBRApy soporta el calculo de éste análisis de forma clara y fácil, usando cualquier librería para graficar.\n"
   ]
  },
  {
   "cell_type": "code",
   "execution_count": 25,
   "metadata": {},
   "outputs": [],
   "source": [
    "import cobra.test\n",
    "from cobra.flux_analysis import production_envelope\n",
    "\n",
    "model = cobra.test.create_test_model(\"textbook\")"
   ]
  },
  {
   "cell_type": "markdown",
   "metadata": {},
   "source": [
    "Haremos un análisis de fenotipos de fase plana para evaluar las tomas de Glucosa y Oxígeno:"
   ]
  },
  {
   "cell_type": "code",
   "execution_count": 27,
   "metadata": {},
   "outputs": [],
   "source": [
    "prod_env = production_envelope(model, [\"EX_glc__D_e\", \"EX_o2_e\"])"
   ]
  },
  {
   "cell_type": "code",
   "execution_count": 28,
   "metadata": {},
   "outputs": [
    {
     "data": {
      "text/html": [
       "<div>\n",
       "<style scoped>\n",
       "    .dataframe tbody tr th:only-of-type {\n",
       "        vertical-align: middle;\n",
       "    }\n",
       "\n",
       "    .dataframe tbody tr th {\n",
       "        vertical-align: top;\n",
       "    }\n",
       "\n",
       "    .dataframe thead th {\n",
       "        text-align: right;\n",
       "    }\n",
       "</style>\n",
       "<table border=\"1\" class=\"dataframe\">\n",
       "  <thead>\n",
       "    <tr style=\"text-align: right;\">\n",
       "      <th></th>\n",
       "      <th>carbon_source</th>\n",
       "      <th>flux_minimum</th>\n",
       "      <th>carbon_yield_minimum</th>\n",
       "      <th>mass_yield_minimum</th>\n",
       "      <th>flux_maximum</th>\n",
       "      <th>carbon_yield_maximum</th>\n",
       "      <th>mass_yield_maximum</th>\n",
       "      <th>EX_glc__D_e</th>\n",
       "      <th>EX_o2_e</th>\n",
       "    </tr>\n",
       "  </thead>\n",
       "  <tbody>\n",
       "    <tr>\n",
       "      <th>0</th>\n",
       "      <td>EX_glc__D_e</td>\n",
       "      <td>0.0</td>\n",
       "      <td>0.0</td>\n",
       "      <td>NaN</td>\n",
       "      <td>0.000000</td>\n",
       "      <td>2.386960e-13</td>\n",
       "      <td>NaN</td>\n",
       "      <td>-10.0</td>\n",
       "      <td>-60.000000</td>\n",
       "    </tr>\n",
       "    <tr>\n",
       "      <th>1</th>\n",
       "      <td>EX_glc__D_e</td>\n",
       "      <td>0.0</td>\n",
       "      <td>0.0</td>\n",
       "      <td>NaN</td>\n",
       "      <td>0.072244</td>\n",
       "      <td>1.310050e+00</td>\n",
       "      <td>NaN</td>\n",
       "      <td>-10.0</td>\n",
       "      <td>-56.842105</td>\n",
       "    </tr>\n",
       "    <tr>\n",
       "      <th>2</th>\n",
       "      <td>EX_glc__D_e</td>\n",
       "      <td>0.0</td>\n",
       "      <td>0.0</td>\n",
       "      <td>NaN</td>\n",
       "      <td>0.144488</td>\n",
       "      <td>2.620100e+00</td>\n",
       "      <td>NaN</td>\n",
       "      <td>-10.0</td>\n",
       "      <td>-53.684211</td>\n",
       "    </tr>\n",
       "    <tr>\n",
       "      <th>3</th>\n",
       "      <td>EX_glc__D_e</td>\n",
       "      <td>0.0</td>\n",
       "      <td>0.0</td>\n",
       "      <td>NaN</td>\n",
       "      <td>0.216732</td>\n",
       "      <td>3.930150e+00</td>\n",
       "      <td>NaN</td>\n",
       "      <td>-10.0</td>\n",
       "      <td>-50.526316</td>\n",
       "    </tr>\n",
       "    <tr>\n",
       "      <th>4</th>\n",
       "      <td>EX_glc__D_e</td>\n",
       "      <td>0.0</td>\n",
       "      <td>0.0</td>\n",
       "      <td>NaN</td>\n",
       "      <td>0.288975</td>\n",
       "      <td>5.240200e+00</td>\n",
       "      <td>NaN</td>\n",
       "      <td>-10.0</td>\n",
       "      <td>-47.368421</td>\n",
       "    </tr>\n",
       "  </tbody>\n",
       "</table>\n",
       "</div>"
      ],
      "text/plain": [
       "  carbon_source  flux_minimum  carbon_yield_minimum  mass_yield_minimum  \\\n",
       "0   EX_glc__D_e           0.0                   0.0                 NaN   \n",
       "1   EX_glc__D_e           0.0                   0.0                 NaN   \n",
       "2   EX_glc__D_e           0.0                   0.0                 NaN   \n",
       "3   EX_glc__D_e           0.0                   0.0                 NaN   \n",
       "4   EX_glc__D_e           0.0                   0.0                 NaN   \n",
       "\n",
       "   flux_maximum  carbon_yield_maximum  mass_yield_maximum  EX_glc__D_e  \\\n",
       "0      0.000000          2.386960e-13                 NaN        -10.0   \n",
       "1      0.072244          1.310050e+00                 NaN        -10.0   \n",
       "2      0.144488          2.620100e+00                 NaN        -10.0   \n",
       "3      0.216732          3.930150e+00                 NaN        -10.0   \n",
       "4      0.288975          5.240200e+00                 NaN        -10.0   \n",
       "\n",
       "     EX_o2_e  \n",
       "0 -60.000000  \n",
       "1 -56.842105  \n",
       "2 -53.684211  \n",
       "3 -50.526316  \n",
       "4 -47.368421  "
      ]
     },
     "execution_count": 28,
     "metadata": {},
     "output_type": "execute_result"
    }
   ],
   "source": [
    "prod_env.head()"
   ]
  },
  {
   "cell_type": "code",
   "execution_count": 31,
   "metadata": {},
   "outputs": [
    {
     "data": {
      "image/png": "[encoded data removed]",
      "text/plain": [
       "<Figure size 432x288 with 1 Axes>"
      ]
     },
     "metadata": {
      "needs_background": "light"
     },
     "output_type": "display_data"
    }
   ],
   "source": [
    "%matplotlib inline\n",
    "prod_env.plot(\n",
    "    kind='line', x='EX_o2_e', y='carbon_yield_maximum');"
   ]
  },
  {
   "cell_type": "markdown",
   "metadata": {},
   "source": [
    "Si especificamos la fuente de carbono, también podemos obtener el rendimiento de carbono y masa. Por ejemplo, estableciendo temporalmente el objetivo para producir acetato en su lugar, podríamos obtener el análisis de FFP de la siguiente manera:"
   ]
  },
  {
   "cell_type": "code",
   "execution_count": 32,
   "metadata": {},
   "outputs": [],
   "source": [
    "prod_env = production_envelope(\n",
    "    model, [\"EX_o2_e\"], objective=\"EX_ac_e\", carbon_sources=\"EX_glc__D_e\")"
   ]
  },
  {
   "cell_type": "code",
   "execution_count": 33,
   "metadata": {},
   "outputs": [
    {
     "data": {
      "text/html": [
       "<div>\n",
       "<style scoped>\n",
       "    .dataframe tbody tr th:only-of-type {\n",
       "        vertical-align: middle;\n",
       "    }\n",
       "\n",
       "    .dataframe tbody tr th {\n",
       "        vertical-align: top;\n",
       "    }\n",
       "\n",
       "    .dataframe thead th {\n",
       "        text-align: right;\n",
       "    }\n",
       "</style>\n",
       "<table border=\"1\" class=\"dataframe\">\n",
       "  <thead>\n",
       "    <tr style=\"text-align: right;\">\n",
       "      <th></th>\n",
       "      <th>carbon_source</th>\n",
       "      <th>flux_minimum</th>\n",
       "      <th>carbon_yield_minimum</th>\n",
       "      <th>mass_yield_minimum</th>\n",
       "      <th>flux_maximum</th>\n",
       "      <th>carbon_yield_maximum</th>\n",
       "      <th>mass_yield_maximum</th>\n",
       "      <th>EX_o2_e</th>\n",
       "    </tr>\n",
       "  </thead>\n",
       "  <tbody>\n",
       "    <tr>\n",
       "      <th>0</th>\n",
       "      <td>EX_glc__D_e</td>\n",
       "      <td>0.0</td>\n",
       "      <td>0.0</td>\n",
       "      <td>0.0</td>\n",
       "      <td>0.000000</td>\n",
       "      <td>0.000000</td>\n",
       "      <td>0.000000</td>\n",
       "      <td>-60.000000</td>\n",
       "    </tr>\n",
       "    <tr>\n",
       "      <th>1</th>\n",
       "      <td>EX_glc__D_e</td>\n",
       "      <td>0.0</td>\n",
       "      <td>0.0</td>\n",
       "      <td>0.0</td>\n",
       "      <td>1.578947</td>\n",
       "      <td>0.052632</td>\n",
       "      <td>0.051748</td>\n",
       "      <td>-56.842105</td>\n",
       "    </tr>\n",
       "    <tr>\n",
       "      <th>2</th>\n",
       "      <td>EX_glc__D_e</td>\n",
       "      <td>0.0</td>\n",
       "      <td>0.0</td>\n",
       "      <td>0.0</td>\n",
       "      <td>3.157895</td>\n",
       "      <td>0.105263</td>\n",
       "      <td>0.103496</td>\n",
       "      <td>-53.684211</td>\n",
       "    </tr>\n",
       "    <tr>\n",
       "      <th>3</th>\n",
       "      <td>EX_glc__D_e</td>\n",
       "      <td>0.0</td>\n",
       "      <td>0.0</td>\n",
       "      <td>0.0</td>\n",
       "      <td>4.736842</td>\n",
       "      <td>0.157895</td>\n",
       "      <td>0.155245</td>\n",
       "      <td>-50.526316</td>\n",
       "    </tr>\n",
       "    <tr>\n",
       "      <th>4</th>\n",
       "      <td>EX_glc__D_e</td>\n",
       "      <td>0.0</td>\n",
       "      <td>0.0</td>\n",
       "      <td>0.0</td>\n",
       "      <td>6.315789</td>\n",
       "      <td>0.210526</td>\n",
       "      <td>0.206993</td>\n",
       "      <td>-47.368421</td>\n",
       "    </tr>\n",
       "  </tbody>\n",
       "</table>\n",
       "</div>"
      ],
      "text/plain": [
       "  carbon_source  flux_minimum  carbon_yield_minimum  mass_yield_minimum  \\\n",
       "0   EX_glc__D_e           0.0                   0.0                 0.0   \n",
       "1   EX_glc__D_e           0.0                   0.0                 0.0   \n",
       "2   EX_glc__D_e           0.0                   0.0                 0.0   \n",
       "3   EX_glc__D_e           0.0                   0.0                 0.0   \n",
       "4   EX_glc__D_e           0.0                   0.0                 0.0   \n",
       "\n",
       "   flux_maximum  carbon_yield_maximum  mass_yield_maximum    EX_o2_e  \n",
       "0      0.000000              0.000000            0.000000 -60.000000  \n",
       "1      1.578947              0.052632            0.051748 -56.842105  \n",
       "2      3.157895              0.105263            0.103496 -53.684211  \n",
       "3      4.736842              0.157895            0.155245 -50.526316  \n",
       "4      6.315789              0.210526            0.206993 -47.368421  "
      ]
     },
     "execution_count": 33,
     "metadata": {},
     "output_type": "execute_result"
    }
   ],
   "source": [
    "prod_env.head()"
   ]
  },
  {
   "cell_type": "code",
   "execution_count": 35,
   "metadata": {},
   "outputs": [
    {
     "data": {
      "image/png": "[encoded data removed]",
      "text/plain": [
       "<Figure size 432x288 with 1 Axes>"
      ]
     },
     "metadata": {
      "needs_background": "light"
     },
     "output_type": "display_data"
    }
   ],
   "source": [
    "%matplotlib inline\n",
    "prod_env.plot(\n",
    "    kind='line', x='EX_o2_e', y='carbon_yield_maximum');"
   ]
  },
  {
   "cell_type": "code",
   "execution_count": null,
   "metadata": {},
   "outputs": [],
   "source": []
  }
 ],
 "metadata": {
  "kernelspec": {
   "display_name": "Python 3",
   "language": "python",
   "name": "python3"
  },
  "language_info": {
   "codemirror_mode": {
    "name": "ipython",
    "version": 3
   },
   "file_extension": ".py",
   "mimetype": "text/x-python",
   "name": "python",
   "nbconvert_exporter": "python",
   "pygments_lexer": "ipython3",
   "version": "3.8.2"
  }
 },
 "nbformat": 4,
 "nbformat_minor": 4
}
